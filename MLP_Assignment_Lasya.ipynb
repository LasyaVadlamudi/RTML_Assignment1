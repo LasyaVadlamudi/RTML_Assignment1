{
  "cells": [
    {
      "cell_type": "markdown",
      "metadata": {
        "id": "50609119-e1ed-47f3-9fb2-9f31a46b9463"
      },
      "source": [
        "# Homework 1: Fashion and Housing Multi-layer Perceptron Model Training\n",
        "## Course : Real-Time Machine Learning 5106\n",
        "### Name : Lasya Vadlamudi\n",
        "### Student ID : 801318796"
      ],
      "id": "50609119-e1ed-47f3-9fb2-9f31a46b9463"
    },
    {
      "cell_type": "code",
      "execution_count": 22,
      "metadata": {
        "colab": {
          "base_uri": "https://localhost:8080/",
          "height": 0
        },
        "id": "c2d5af04-1aea-40d0-8e7e-d90ae1310e25",
        "outputId": "35b21fc5-df89-4d0b-f505-f8542cc84c11"
      },
      "outputs": [
        {
          "output_type": "stream",
          "name": "stdout",
          "text": [
            "Looking in indexes: https://pypi.org/simple, https://us-python.pkg.dev/colab-wheels/public/simple/\n",
            "Requirement already satisfied: torchmetrics in /usr/local/lib/python3.8/dist-packages (0.11.1)\n",
            "Requirement already satisfied: torch>=1.8.1 in /usr/local/lib/python3.8/dist-packages (from torchmetrics) (1.13.1+cu116)\n",
            "Requirement already satisfied: typing-extensions in /usr/local/lib/python3.8/dist-packages (from torchmetrics) (4.4.0)\n",
            "Requirement already satisfied: numpy>=1.17.2 in /usr/local/lib/python3.8/dist-packages (from torchmetrics) (1.21.6)\n",
            "Requirement already satisfied: packaging in /usr/local/lib/python3.8/dist-packages (from torchmetrics) (23.0)\n"
          ]
        }
      ],
      "source": [
        "import cv2\n",
        "import numpy as np\n",
        "import pandas as pd\n",
        "from tqdm import tqdm\n",
        "from datetime import datetime\n",
        "from matplotlib import pyplot as plt\n",
        "\n",
        "import torch\n",
        "from torch import nn\n",
        "from torch.utils.data import DataLoader, random_split, Subset\n",
        "\n",
        "from torchvision import transforms, datasets \n",
        "!pip install torchmetrics\n",
        "from torchmetrics.classification import MulticlassAccuracy, BinaryAccuracy\n",
        "from torchmetrics import ConfusionMatrix\n",
        "\n",
        "import copy"
      ],
      "id": "c2d5af04-1aea-40d0-8e7e-d90ae1310e25"
    },
    {
      "cell_type": "code",
      "execution_count": 23,
      "metadata": {
        "id": "ef435688-843e-42ba-8516-66d2dfc8dcb7"
      },
      "outputs": [],
      "source": [
        "class Train_Model: # A class to train and save the developed model and the metrics\n",
        "\n",
        "    \n",
        "    def __init__(self, model, loss, optimizer, accuracy, model_type, device, classes=0):\n",
        "        \n",
        "        self.device = device\n",
        "        self.model = model.to(device) ## Setting the model on GPU\n",
        "        self.Loss_Function = loss\n",
        "        self.optimizer = optimizer\n",
        "        self.accuracy = accuracy\n",
        "        self.model_type = model_type\n",
        "        self.classNum = classes\n",
        "        \n",
        "        # A dictionary to append or store the results\n",
        "        self.Metrics = {\"Training_Loss\":[],\"Training_Accuracy\":[], \"Validation_Loss\":[], \"Validation_Accuracy\":[],\"Test_Accuracy\":0}  \n",
        "        self.ConfMatrix = None\n",
        "    \n",
        "    # Function to train the model\n",
        "    def model_run(self, l_data,run_type):\n",
        "        \n",
        "        if run_type == 'train':\n",
        "          self.model.train() \n",
        "          \n",
        "          if self.model_type == \"Classification\":\n",
        "              MCA = self.accuracy(self.classNum)\n",
        "          else:\n",
        "              MCA = self.accuracy\n",
        "          \n",
        "          loss_sum = 0\n",
        "          acc = 0\n",
        "          \n",
        "          # Iterates over the data\n",
        "          for data, labels in tqdm(l_data):\n",
        "              \n",
        "              # transform data into one-hot vectors\n",
        "              data = data.to(self.device)\n",
        "              if self.model_type == \"Classification\":\n",
        "                  labels = torch.eye(10)[labels]\n",
        "              else:\n",
        "                  labels = labels.reshape(-1, 1)\n",
        "              labels = labels.to(self.device)\n",
        "              \n",
        "              predictions = self.model(data)\n",
        "              loss_value = self.Loss_Function(predictions, labels)\n",
        "              \n",
        "              \n",
        "              self.optimizer.zero_grad()\n",
        "              loss_value.backward()\n",
        "              self.optimizer.step()\n",
        "              \n",
        "              \n",
        "              # Set the predictions and labels back into integers for accuracy calculation\n",
        "              if self.model_type == \"Classification\":\n",
        "                  predictions = torch.Tensor([torch.argmax(i).item() for i in predictions])\n",
        "                  labels = torch.Tensor([torch.argmax(i).item() for i in labels])\n",
        "              \n",
        "              ##### Calculate Loss and accuracy\n",
        "              loss_sum += loss_value.item()\n",
        "              if self.model_type == \"Classification\":\n",
        "                  acc += MCA(predictions, labels)\n",
        "          \n",
        "          self.Metrics[\"Training_Loss\"].append(loss_sum / len(l_data))\n",
        "          if self.model_type == \"Classification\":\n",
        "              self.Metrics[\"Training_Accuracy\"].append(acc / len(l_data))\n",
        "          \n",
        "        \n",
        "        elif run_type == 'eval':\n",
        "          self.model.eval()\n",
        "          \n",
        "          if self.model_type == \"Classification\":\n",
        "              MCA = self.accuracy(self.classNum)\n",
        "          else:\n",
        "              MCA = self.accuracy\n",
        "              \n",
        "          loss_sum = 0\n",
        "          acc = 0\n",
        "          \n",
        "          for data, labels in l_data:\n",
        "              \n",
        "              data = data.to(self.device)\n",
        "              if self.model_type == \"Classification\":\n",
        "                  labels = torch.eye(10)[labels]\n",
        "              else:\n",
        "                  labels = labels.reshape(-1, 1)\n",
        "              labels = labels.to(self.device)\n",
        "              \n",
        "              with torch.no_grad():\n",
        "                  predictions = self.model(data)\n",
        "              loss_value = self.Loss_Function(predictions, labels)\n",
        "              \n",
        "              if self.model_type == \"Classification\":\n",
        "                  predictions = torch.Tensor([torch.argmax(i).item() for i in predictions])\n",
        "                  labels = torch.Tensor([torch.argmax(i).item() for i in labels])\n",
        "              \n",
        "              loss_sum += loss_value.item()\n",
        "              if self.model_type == \"Classification\":\n",
        "                  acc += MCA(predictions, labels)\n",
        "              \n",
        "          self.Metrics[\"Validation_Loss\"].append(loss_sum / len(l_data))\n",
        "          if self.model_type == \"Classification\":\n",
        "              self.Metrics[\"Validation_Accuracy\"].append(acc / len(l_data))\n",
        "          \n",
        "    \n",
        "    def fit(self, t_data, v_data, EPOCHS):\n",
        "        \n",
        "        \n",
        "        for i in range(EPOCHS):\n",
        "            \n",
        "            self.model_run(v_data,'eval')\n",
        "            self.model_run(t_data,'train')\n",
        "                \n",
        "            print(\"Current Epoch:\", i+1)\n",
        "            print(\"Training_Loss:\", self.Metrics[\"Training_Loss\"][-1], \" | Validation_Loss:\", self.Metrics[\"Validation_Loss\"][-1])\n",
        "            if self.model_type == \"Classification\":\n",
        "                print(\"Training_Accuracy:\", self.Metrics[\"Training_Accuracy\"][-1].item(), \" | Validation_Accuracy:\", self.Metrics[\"Validation_Accuracy\"][-1].item())\n",
        "            \n",
        "    \n",
        "    def Test_Model(self, testLoader):\n",
        "        \n",
        "        self.model.eval()\n",
        "        \n",
        "        if self.model_type == \"Classification\":\n",
        "            confusion = ConfusionMatrix(task=\"multiclass\", num_classes=self.classNum)\n",
        "            MCA = self.accuracy(self.classNum)\n",
        "        else:\n",
        "            MCA = self.accuracy\n",
        "        \n",
        "        predMax = torch.empty(0)\n",
        "        labelMax = torch.empty(0)\n",
        "    \n",
        "        for data, labels in testLoader:\n",
        "\n",
        "            data = data.to(self.device)\n",
        "            if self.model_type == \"Classification\":\n",
        "                labels = torch.eye(10)[labels]\n",
        "            else:\n",
        "                labels = labels.reshape(-1, 1)\n",
        "            labels = labels.to(self.device)\n",
        "\n",
        "            with torch.no_grad():\n",
        "                pred = self.model(data)\n",
        "\n",
        "            if self.model_type == \"Classification\":\n",
        "                pred = torch.Tensor([torch.argmax(i).item() for i in pred])\n",
        "                labels = torch.Tensor([torch.argmax(i).item() for i in labels])\n",
        "\n",
        "            predMax = torch.cat((predMax, pred))\n",
        "            labelMax = torch.cat((labelMax, labels))\n",
        "        \n",
        "        if self.model_type == \"Classification\":\n",
        "            self.ConfMatrix = confusion(predMax, labelMax)\n",
        "            self.Metrics[\"Test_Accuracy\"] = MCA(predMax, labelMax).item()\n",
        "        \n",
        "    \n",
        "    "
      ],
      "id": "ef435688-843e-42ba-8516-66d2dfc8dcb7"
    },
    {
      "cell_type": "markdown",
      "metadata": {
        "id": "ae6a8caf-dfed-4b60-8dc5-760b2f483a50"
      },
      "source": [
        "## Problem 1 Fashion Dataset"
      ],
      "id": "ae6a8caf-dfed-4b60-8dc5-760b2f483a50"
    },
    {
      "cell_type": "code",
      "execution_count": 24,
      "metadata": {
        "id": "011f0439-8023-4551-a9df-61ff6fbfd2d0"
      },
      "outputs": [],
      "source": [
        "device_to_use = torch.device(\"cuda\" if torch.cuda.is_available() else \"cpu\")"
      ],
      "id": "011f0439-8023-4551-a9df-61ff6fbfd2d0"
    },
    {
      "cell_type": "code",
      "execution_count": 25,
      "metadata": {
        "id": "581c3bbe-b7aa-45a8-857e-0c745bcfc314"
      },
      "outputs": [],
      "source": [
        "train_transform = transforms.Compose([\n",
        "                                        transforms.ToTensor(),\n",
        "                                        transforms.Normalize((0.29), (0.32)),\n",
        "])\n",
        "\n",
        "test_transform = transforms.Compose([\n",
        "                                        transforms.ToTensor(),\n",
        "                                        transforms.Normalize((0.29), (0.32)),\n",
        "])"
      ],
      "id": "581c3bbe-b7aa-45a8-857e-0c745bcfc314"
    },
    {
      "cell_type": "code",
      "execution_count": 26,
      "metadata": {
        "id": "c39123b0-efbd-484e-b843-3c88da5f89de"
      },
      "outputs": [],
      "source": [
        "train_df = datasets.FashionMNIST(root=\"datasets\", train=True, transform=train_transform,download=True)\n",
        "test_df = datasets.FashionMNIST(root=\"datasets\", train=False, transform=test_transform,download=True)\n",
        "\n",
        "## Create Train and Test data \n",
        "validNum = int(len(train_df) * 0.8)\n",
        "train_df, valid_df = random_split(train_df, [validNum, len(train_df) - validNum])\n"
      ],
      "id": "c39123b0-efbd-484e-b843-3c88da5f89de"
    },
    {
      "cell_type": "code",
      "execution_count": 27,
      "metadata": {
        "id": "ae9b750d-748f-49a4-9c20-cdc8218254dd"
      },
      "outputs": [],
      "source": [
        "trainLoader = DataLoader(train_df, batch_size=256, shuffle=True, num_workers=1)\n",
        "validateLoader = DataLoader(valid_df, batch_size=256, shuffle=True, num_workers=1)\n",
        "testLoader = DataLoader(test_df, batch_size=256, shuffle=True, num_workers=1)"
      ],
      "id": "ae9b750d-748f-49a4-9c20-cdc8218254dd"
    },
    {
      "cell_type": "code",
      "execution_count": 28,
      "metadata": {
        "id": "1bebb7a6-4049-495f-bb7c-b4e8b2d39cce"
      },
      "outputs": [],
      "source": [
        "BaseModel = nn.Sequential(\n",
        "    nn.Flatten(),\n",
        "    nn.LazyLinear(256),\n",
        "    nn.ReLU(),\n",
        "    nn.Linear(in_features= 256, out_features= 128),\n",
        "    nn.ReLU(),\n",
        "    nn.Linear(in_features= 128, out_features= 64),\n",
        "    nn.ReLU(),\n",
        "    nn.Linear(in_features= 64, out_features= 10),\n",
        ")"
      ],
      "id": "1bebb7a6-4049-495f-bb7c-b4e8b2d39cce"
    },
    {
      "cell_type": "code",
      "execution_count": 29,
      "metadata": {
        "id": "726d5412-804f-4f43-ae8e-3994d094eed3"
      },
      "outputs": [],
      "source": [
        "base = copy.deepcopy(BaseModel)\n",
        "baseline_model_generator = Train_Model(base, nn.CrossEntropyLoss(), torch.optim.SGD(base.parameters(), lr=0.01, momentum=0.9), MulticlassAccuracy, \"Classification\",  device_to_use, 10)"
      ],
      "id": "726d5412-804f-4f43-ae8e-3994d094eed3"
    },
    {
      "cell_type": "markdown",
      "metadata": {
        "id": "a0bab864-4ddd-4892-a8d7-fd32527328f4"
      },
      "source": [
        "### 1.a Train the model from scratch (with randomized parameters)"
      ],
      "id": "a0bab864-4ddd-4892-a8d7-fd32527328f4"
    },
    {
      "cell_type": "code",
      "execution_count": 30,
      "metadata": {
        "colab": {
          "base_uri": "https://localhost:8080/",
          "height": 1779
        },
        "id": "272709df-b072-4790-a0e3-7e0c76462fce",
        "outputId": "327fc961-8d53-4b18-b33d-1bab09ca2995"
      },
      "outputs": [
        {
          "output_type": "stream",
          "name": "stderr",
          "text": [
            "100%|██████████| 188/188 [00:30<00:00,  6.13it/s]"
          ]
        },
        {
          "output_type": "stream",
          "name": "stdout",
          "text": [
            "Current Epoch: 1\n",
            "Training_Loss: 0.9798680057233953  | Validation_Loss: 2.3002122919610204\n",
            "Training_Accuracy: 0.6689545512199402  | Validation_Accuracy: 0.10027414560317993\n"
          ]
        },
        {
          "output_type": "stream",
          "name": "stderr",
          "text": [
            "\n",
            "100%|██████████| 188/188 [00:15<00:00, 12.26it/s]"
          ]
        },
        {
          "output_type": "stream",
          "name": "stdout",
          "text": [
            "Current Epoch: 2\n",
            "Training_Loss: 0.4716372405912014  | Validation_Loss: 0.5738643902413388\n",
            "Training_Accuracy: 0.8284025192260742  | Validation_Accuracy: 0.7852159142494202\n"
          ]
        },
        {
          "output_type": "stream",
          "name": "stderr",
          "text": [
            "\n",
            "100%|██████████| 188/188 [00:15<00:00, 11.89it/s]"
          ]
        },
        {
          "output_type": "stream",
          "name": "stdout",
          "text": [
            "Current Epoch: 3\n",
            "Training_Loss: 0.4079298327894921  | Validation_Loss: 0.42666196823120117\n",
            "Training_Accuracy: 0.8519133925437927  | Validation_Accuracy: 0.8427689075469971\n"
          ]
        },
        {
          "output_type": "stream",
          "name": "stderr",
          "text": [
            "\n",
            "100%|██████████| 188/188 [00:15<00:00, 12.52it/s]"
          ]
        },
        {
          "output_type": "stream",
          "name": "stdout",
          "text": [
            "Current Epoch: 4\n",
            "Training_Loss: 0.37124210596084595  | Validation_Loss: 0.39732999180225614\n",
            "Training_Accuracy: 0.8653149008750916  | Validation_Accuracy: 0.8529492616653442\n"
          ]
        },
        {
          "output_type": "stream",
          "name": "stderr",
          "text": [
            "\n",
            "100%|██████████| 188/188 [00:15<00:00, 12.32it/s]\n"
          ]
        },
        {
          "output_type": "stream",
          "name": "stdout",
          "text": [
            "Current Epoch: 5\n",
            "Training_Loss: 0.35021976468727944  | Validation_Loss: 0.3640956371388537\n",
            "Training_Accuracy: 0.8732344508171082  | Validation_Accuracy: 0.8664167523384094\n"
          ]
        },
        {
          "output_type": "stream",
          "name": "stderr",
          "text": [
            "100%|██████████| 188/188 [00:16<00:00, 11.32it/s]\n"
          ]
        },
        {
          "output_type": "stream",
          "name": "stdout",
          "text": [
            "Current Epoch: 6\n",
            "Training_Loss: 0.3321754421959532  | Validation_Loss: 0.34910952981482163\n",
            "Training_Accuracy: 0.8790437579154968  | Validation_Accuracy: 0.8723315596580505\n"
          ]
        },
        {
          "output_type": "stream",
          "name": "stderr",
          "text": [
            "100%|██████████| 188/188 [00:15<00:00, 12.35it/s]"
          ]
        },
        {
          "output_type": "stream",
          "name": "stdout",
          "text": [
            "Current Epoch: 7\n",
            "Training_Loss: 0.3130822959256933  | Validation_Loss: 0.36436402417243796\n",
            "Training_Accuracy: 0.8876327276229858  | Validation_Accuracy: 0.862706184387207\n"
          ]
        },
        {
          "output_type": "stream",
          "name": "stderr",
          "text": [
            "\n",
            "100%|██████████| 188/188 [00:16<00:00, 11.67it/s]"
          ]
        },
        {
          "output_type": "stream",
          "name": "stdout",
          "text": [
            "Current Epoch: 8\n",
            "Training_Loss: 0.29720936113215507  | Validation_Loss: 0.32945802173715955\n",
            "Training_Accuracy: 0.8916178941726685  | Validation_Accuracy: 0.8767273426055908\n"
          ]
        },
        {
          "output_type": "stream",
          "name": "stderr",
          "text": [
            "\n",
            "100%|██████████| 188/188 [00:15<00:00, 12.26it/s]"
          ]
        },
        {
          "output_type": "stream",
          "name": "stdout",
          "text": [
            "Current Epoch: 9\n",
            "Training_Loss: 0.2866161251638798  | Validation_Loss: 0.3474555605269493\n",
            "Training_Accuracy: 0.8938705921173096  | Validation_Accuracy: 0.8701926469802856\n"
          ]
        },
        {
          "output_type": "stream",
          "name": "stderr",
          "text": [
            "\n",
            "100%|██████████| 188/188 [00:16<00:00, 11.37it/s]"
          ]
        },
        {
          "output_type": "stream",
          "name": "stdout",
          "text": [
            "Current Epoch: 10\n",
            "Training_Loss: 0.27397793166814965  | Validation_Loss: 0.3320324956736666\n",
            "Training_Accuracy: 0.9008845090866089  | Validation_Accuracy: 0.8791496753692627\n"
          ]
        },
        {
          "output_type": "stream",
          "name": "stderr",
          "text": [
            "\n",
            "100%|██████████| 188/188 [00:15<00:00, 12.43it/s]\n"
          ]
        },
        {
          "output_type": "stream",
          "name": "stdout",
          "text": [
            "Current Epoch: 11\n",
            "Training_Loss: 0.2650427620937216  | Validation_Loss: 0.3191355625365643\n",
            "Training_Accuracy: 0.9028773307800293  | Validation_Accuracy: 0.8824310898780823\n"
          ]
        },
        {
          "output_type": "stream",
          "name": "stderr",
          "text": [
            "100%|██████████| 188/188 [00:15<00:00, 12.25it/s]"
          ]
        },
        {
          "output_type": "stream",
          "name": "stdout",
          "text": [
            "Current Epoch: 12\n",
            "Training_Loss: 0.25640195132570065  | Validation_Loss: 0.31633026612565873\n",
            "Training_Accuracy: 0.9059439897537231  | Validation_Accuracy: 0.8825669884681702\n"
          ]
        },
        {
          "output_type": "stream",
          "name": "stderr",
          "text": [
            "\n",
            "100%|██████████| 188/188 [00:15<00:00, 11.85it/s]"
          ]
        },
        {
          "output_type": "stream",
          "name": "stdout",
          "text": [
            "Current Epoch: 13\n",
            "Training_Loss: 0.2435648132194864  | Validation_Loss: 0.3215219714540116\n",
            "Training_Accuracy: 0.9104245901107788  | Validation_Accuracy: 0.8828977942466736\n"
          ]
        },
        {
          "output_type": "stream",
          "name": "stderr",
          "text": [
            "\n",
            "100%|██████████| 188/188 [00:15<00:00, 12.17it/s]"
          ]
        },
        {
          "output_type": "stream",
          "name": "stdout",
          "text": [
            "Current Epoch: 14\n",
            "Training_Loss: 0.2349115845529323  | Validation_Loss: 0.31469872720698094\n",
            "Training_Accuracy: 0.9141533374786377  | Validation_Accuracy: 0.8837392330169678\n"
          ]
        },
        {
          "output_type": "stream",
          "name": "stderr",
          "text": [
            "\n",
            "100%|██████████| 188/188 [00:15<00:00, 11.77it/s]"
          ]
        },
        {
          "output_type": "stream",
          "name": "stdout",
          "text": [
            "Current Epoch: 15\n",
            "Training_Loss: 0.224241287705112  | Validation_Loss: 0.30238299864403745\n",
            "Training_Accuracy: 0.917290449142456  | Validation_Accuracy: 0.8885652422904968\n"
          ]
        },
        {
          "output_type": "stream",
          "name": "stderr",
          "text": [
            "\n",
            "100%|██████████| 188/188 [00:15<00:00, 11.77it/s]"
          ]
        },
        {
          "output_type": "stream",
          "name": "stdout",
          "text": [
            "Current Epoch: 16\n",
            "Training_Loss: 0.2162302997993662  | Validation_Loss: 0.30485941786715326\n",
            "Training_Accuracy: 0.9198009371757507  | Validation_Accuracy: 0.8869662880897522\n"
          ]
        },
        {
          "output_type": "stream",
          "name": "stderr",
          "text": [
            "\n",
            "100%|██████████| 188/188 [00:15<00:00, 12.03it/s]"
          ]
        },
        {
          "output_type": "stream",
          "name": "stdout",
          "text": [
            "Current Epoch: 17\n",
            "Training_Loss: 0.2107843315981804  | Validation_Loss: 0.3048962009079913\n",
            "Training_Accuracy: 0.9217001795768738  | Validation_Accuracy: 0.8871020674705505\n"
          ]
        },
        {
          "output_type": "stream",
          "name": "stderr",
          "text": [
            "\n",
            "100%|██████████| 188/188 [00:15<00:00, 11.84it/s]"
          ]
        },
        {
          "output_type": "stream",
          "name": "stdout",
          "text": [
            "Current Epoch: 18\n",
            "Training_Loss: 0.20760488700359425  | Validation_Loss: 0.3174517918774422\n",
            "Training_Accuracy: 0.9240307211875916  | Validation_Accuracy: 0.8835135102272034\n"
          ]
        },
        {
          "output_type": "stream",
          "name": "stderr",
          "text": [
            "\n",
            "100%|██████████| 188/188 [00:16<00:00, 11.74it/s]"
          ]
        },
        {
          "output_type": "stream",
          "name": "stdout",
          "text": [
            "Current Epoch: 19\n",
            "Training_Loss: 0.19910564947318524  | Validation_Loss: 0.3028476247762112\n",
            "Training_Accuracy: 0.9270111322402954  | Validation_Accuracy: 0.8900855183601379\n"
          ]
        },
        {
          "output_type": "stream",
          "name": "stderr",
          "text": [
            "\n",
            "100%|██████████| 188/188 [00:15<00:00, 11.80it/s]"
          ]
        },
        {
          "output_type": "stream",
          "name": "stdout",
          "text": [
            "Current Epoch: 20\n",
            "Training_Loss: 0.18785230549884605  | Validation_Loss: 0.3054961923589098\n",
            "Training_Accuracy: 0.9315006136894226  | Validation_Accuracy: 0.8897891640663147\n"
          ]
        },
        {
          "output_type": "stream",
          "name": "stderr",
          "text": [
            "\n"
          ]
        },
        {
          "output_type": "stream",
          "name": "stdout",
          "text": [
            "\n",
            "Test Accuracy: 0.8822999596595764 \n",
            "Time to Train: 0:06:41.776220\n"
          ]
        },
        {
          "output_type": "execute_result",
          "data": {
            "text/plain": [
              "<matplotlib.legend.Legend at 0x7f1b261d3f70>"
            ]
          },
          "metadata": {},
          "execution_count": 30
        },
        {
          "output_type": "display_data",
          "data": {
            "text/plain": [
              "<Figure size 432x288 with 1 Axes>"
            ],
            "image/png": "[encoded data removed]"
          },
          "metadata": {
            "needs_background": "light"
          }
        }
      ],
      "source": [
        "start_time = datetime.now()\n",
        "\n",
        "baseline_model_generator.fit(trainLoader, validateLoader, 20)\n",
        "end_time = datetime.now()\n",
        "baseline_model_generator.Test_Model(testLoader)\n",
        "\n",
        "print(\"\\nTest Accuracy:\", baseline_model_generator.Metrics[\"Test_Accuracy\"], \"\\nTime to Train:\", end_time - start_time)\n",
        "import matplotlib.pyplot as plt\n",
        "\n",
        "### PLOTTING METRICS\n",
        "plt.plot(baseline_model_generator.Metrics['Training_Accuracy'], label='Training Accuracy')\n",
        "plt.plot(baseline_model_generator.Metrics['Validation_Accuracy'], label='Validation Accuracy')\n",
        "plt.plot(baseline_model_generator.Metrics['Training_Loss'], label='Training Loss')\n",
        "plt.plot(baseline_model_generator.Metrics['Validation_Loss'], label='Validation Loss')\n",
        "plt.xlabel('Epoch')\n",
        "plt.ylabel('Metric')\n",
        "plt.legend()"
      ],
      "id": "272709df-b072-4790-a0e3-7e0c76462fce"
    },
    {
      "cell_type": "markdown",
      "metadata": {
        "id": "abb09d7a-feca-405a-98b9-99df31625ddd"
      },
      "source": [
        "### Does your network need more epochs for full training? Do you observe overfitting?\n",
        "We see that the validation loss hasn't shown any major change over the 20 epochs where as the training loss has reduced which means that the model is performing better on the training dataset but not the validation dataset resulting in overfitting.\n"
      ],
      "id": "abb09d7a-feca-405a-98b9-99df31625ddd"
    },
    {
      "cell_type": "markdown",
      "metadata": {
        "id": "92627635-9907-4dd6-bd14-4eae8de16cea"
      },
      "source": [
        "### 1.b This time add weight penalties (weight decays) "
      ],
      "id": "92627635-9907-4dd6-bd14-4eae8de16cea"
    },
    {
      "cell_type": "code",
      "execution_count": 31,
      "metadata": {
        "colab": {
          "base_uri": "https://localhost:8080/",
          "height": 1779
        },
        "id": "be37eed1-cc7a-4de0-a994-e97314d3e791",
        "outputId": "8e52ec64-5ecb-49e4-aebb-ee5e730ad911"
      },
      "outputs": [
        {
          "output_type": "stream",
          "name": "stderr",
          "text": [
            "100%|██████████| 188/188 [00:16<00:00, 11.08it/s]"
          ]
        },
        {
          "output_type": "stream",
          "name": "stdout",
          "text": [
            "Current Epoch: 1\n",
            "Training_Loss: 1.1465635033363992  | Validation_Loss: 2.3028638971612807\n",
            "Training_Accuracy: 0.6095291972160339  | Validation_Accuracy: 0.09875617176294327\n"
          ]
        },
        {
          "output_type": "stream",
          "name": "stderr",
          "text": [
            "\n",
            "100%|██████████| 188/188 [00:15<00:00, 12.09it/s]"
          ]
        },
        {
          "output_type": "stream",
          "name": "stdout",
          "text": [
            "Current Epoch: 2\n",
            "Training_Loss: 0.6580483301522884  | Validation_Loss: 0.6861382545308864\n",
            "Training_Accuracy: 0.7734197378158569  | Validation_Accuracy: 0.7577503323554993\n"
          ]
        },
        {
          "output_type": "stream",
          "name": "stderr",
          "text": [
            "\n",
            "100%|██████████| 188/188 [00:15<00:00, 11.86it/s]"
          ]
        },
        {
          "output_type": "stream",
          "name": "stdout",
          "text": [
            "Current Epoch: 3\n",
            "Training_Loss: 0.6179198418208893  | Validation_Loss: 0.6206900249136255\n",
            "Training_Accuracy: 0.7905428409576416  | Validation_Accuracy: 0.7907092571258545\n"
          ]
        },
        {
          "output_type": "stream",
          "name": "stderr",
          "text": [
            "\n",
            "100%|██████████| 188/188 [00:15<00:00, 11.84it/s]"
          ]
        },
        {
          "output_type": "stream",
          "name": "stdout",
          "text": [
            "Current Epoch: 4\n",
            "Training_Loss: 0.6050974095755435  | Validation_Loss: 0.6188060527152204\n",
            "Training_Accuracy: 0.7980546951293945  | Validation_Accuracy: 0.7922614216804504\n"
          ]
        },
        {
          "output_type": "stream",
          "name": "stderr",
          "text": [
            "\n",
            "100%|██████████| 188/188 [00:15<00:00, 11.83it/s]"
          ]
        },
        {
          "output_type": "stream",
          "name": "stdout",
          "text": [
            "Current Epoch: 5\n",
            "Training_Loss: 0.5976350981187313  | Validation_Loss: 0.613170843175117\n",
            "Training_Accuracy: 0.8005542159080505  | Validation_Accuracy: 0.7910300493240356\n"
          ]
        },
        {
          "output_type": "stream",
          "name": "stderr",
          "text": [
            "\n",
            "100%|██████████| 188/188 [00:15<00:00, 12.14it/s]"
          ]
        },
        {
          "output_type": "stream",
          "name": "stdout",
          "text": [
            "Current Epoch: 6\n",
            "Training_Loss: 0.5931078466646215  | Validation_Loss: 0.5884197626976256\n",
            "Training_Accuracy: 0.8003473281860352  | Validation_Accuracy: 0.8027032017707825\n"
          ]
        },
        {
          "output_type": "stream",
          "name": "stderr",
          "text": [
            "\n",
            "100%|██████████| 188/188 [00:16<00:00, 11.70it/s]"
          ]
        },
        {
          "output_type": "stream",
          "name": "stdout",
          "text": [
            "Current Epoch: 7\n",
            "Training_Loss: 0.5819681383510853  | Validation_Loss: 0.5915373950562579\n",
            "Training_Accuracy: 0.8058554530143738  | Validation_Accuracy: 0.8037493824958801\n"
          ]
        },
        {
          "output_type": "stream",
          "name": "stderr",
          "text": [
            "\n",
            "100%|██████████| 188/188 [00:16<00:00, 11.63it/s]"
          ]
        },
        {
          "output_type": "stream",
          "name": "stdout",
          "text": [
            "Current Epoch: 8\n",
            "Training_Loss: 0.5786092897995989  | Validation_Loss: 0.5805665704798191\n",
            "Training_Accuracy: 0.8061725497245789  | Validation_Accuracy: 0.8026530742645264\n"
          ]
        },
        {
          "output_type": "stream",
          "name": "stderr",
          "text": [
            "\n",
            "100%|██████████| 188/188 [00:16<00:00, 11.70it/s]"
          ]
        },
        {
          "output_type": "stream",
          "name": "stdout",
          "text": [
            "Current Epoch: 9\n",
            "Training_Loss: 0.5758918439771267  | Validation_Loss: 0.5735672503075702\n",
            "Training_Accuracy: 0.8074502944946289  | Validation_Accuracy: 0.8042299151420593\n"
          ]
        },
        {
          "output_type": "stream",
          "name": "stderr",
          "text": [
            "\n",
            "100%|██████████| 188/188 [00:15<00:00, 11.99it/s]"
          ]
        },
        {
          "output_type": "stream",
          "name": "stdout",
          "text": [
            "Current Epoch: 10\n",
            "Training_Loss: 0.5741452056359737  | Validation_Loss: 0.558238612210497\n",
            "Training_Accuracy: 0.8082168102264404  | Validation_Accuracy: 0.8182962536811829\n"
          ]
        },
        {
          "output_type": "stream",
          "name": "stderr",
          "text": [
            "\n",
            "100%|██████████| 188/188 [00:16<00:00, 11.13it/s]"
          ]
        },
        {
          "output_type": "stream",
          "name": "stdout",
          "text": [
            "Current Epoch: 11\n",
            "Training_Loss: 0.5717310689865275  | Validation_Loss: 0.563083828129667\n",
            "Training_Accuracy: 0.8102288842201233  | Validation_Accuracy: 0.820304274559021\n"
          ]
        },
        {
          "output_type": "stream",
          "name": "stderr",
          "text": [
            "\n",
            "100%|██████████| 188/188 [00:15<00:00, 11.98it/s]"
          ]
        },
        {
          "output_type": "stream",
          "name": "stdout",
          "text": [
            "Current Epoch: 12\n",
            "Training_Loss: 0.5729720673345505  | Validation_Loss: 0.5643037766852277\n",
            "Training_Accuracy: 0.8090290427207947  | Validation_Accuracy: 0.8098434209823608\n"
          ]
        },
        {
          "output_type": "stream",
          "name": "stderr",
          "text": [
            "\n",
            "100%|██████████| 188/188 [00:16<00:00, 11.60it/s]\n"
          ]
        },
        {
          "output_type": "stream",
          "name": "stdout",
          "text": [
            "Current Epoch: 13\n",
            "Training_Loss: 0.5753933150083461  | Validation_Loss: 0.5625613915159348\n",
            "Training_Accuracy: 0.8067353367805481  | Validation_Accuracy: 0.8186438679695129\n"
          ]
        },
        {
          "output_type": "stream",
          "name": "stderr",
          "text": [
            "100%|██████████| 188/188 [00:15<00:00, 12.03it/s]"
          ]
        },
        {
          "output_type": "stream",
          "name": "stdout",
          "text": [
            "Current Epoch: 14\n",
            "Training_Loss: 0.5728143547126587  | Validation_Loss: 0.5828058542089259\n",
            "Training_Accuracy: 0.8095617890357971  | Validation_Accuracy: 0.7972118258476257\n"
          ]
        },
        {
          "output_type": "stream",
          "name": "stderr",
          "text": [
            "\n",
            "100%|██████████| 188/188 [00:15<00:00, 12.17it/s]"
          ]
        },
        {
          "output_type": "stream",
          "name": "stdout",
          "text": [
            "Current Epoch: 15\n",
            "Training_Loss: 0.5705744034432351  | Validation_Loss: 0.5604453143921304\n",
            "Training_Accuracy: 0.8107268214225769  | Validation_Accuracy: 0.8144452571868896\n"
          ]
        },
        {
          "output_type": "stream",
          "name": "stderr",
          "text": [
            "\n",
            "100%|██████████| 188/188 [00:15<00:00, 12.27it/s]"
          ]
        },
        {
          "output_type": "stream",
          "name": "stdout",
          "text": [
            "Current Epoch: 16\n",
            "Training_Loss: 0.5667620493059463  | Validation_Loss: 0.5624140678568089\n",
            "Training_Accuracy: 0.8122157454490662  | Validation_Accuracy: 0.8136430382728577\n"
          ]
        },
        {
          "output_type": "stream",
          "name": "stderr",
          "text": [
            "\n",
            "100%|██████████| 188/188 [00:15<00:00, 11.93it/s]"
          ]
        },
        {
          "output_type": "stream",
          "name": "stdout",
          "text": [
            "Current Epoch: 17\n",
            "Training_Loss: 0.57120179765402  | Validation_Loss: 0.5665155611139663\n",
            "Training_Accuracy: 0.8094204068183899  | Validation_Accuracy: 0.8144043684005737\n"
          ]
        },
        {
          "output_type": "stream",
          "name": "stderr",
          "text": [
            "\n",
            "100%|██████████| 188/188 [00:15<00:00, 12.44it/s]"
          ]
        },
        {
          "output_type": "stream",
          "name": "stdout",
          "text": [
            "Current Epoch: 18\n",
            "Training_Loss: 0.5662023550335397  | Validation_Loss: 0.5573242775937344\n",
            "Training_Accuracy: 0.809871256351471  | Validation_Accuracy: 0.8171705007553101\n"
          ]
        },
        {
          "output_type": "stream",
          "name": "stderr",
          "text": [
            "\n",
            "100%|██████████| 188/188 [00:15<00:00, 11.92it/s]"
          ]
        },
        {
          "output_type": "stream",
          "name": "stdout",
          "text": [
            "Current Epoch: 19\n",
            "Training_Loss: 0.5680111595924865  | Validation_Loss: 0.5780083004464495\n",
            "Training_Accuracy: 0.812155544757843  | Validation_Accuracy: 0.7945097088813782\n"
          ]
        },
        {
          "output_type": "stream",
          "name": "stderr",
          "text": [
            "\n",
            "100%|██████████| 188/188 [00:15<00:00, 12.20it/s]"
          ]
        },
        {
          "output_type": "stream",
          "name": "stdout",
          "text": [
            "Current Epoch: 20\n",
            "Training_Loss: 0.5666168165650773  | Validation_Loss: 0.5688659301463593\n",
            "Training_Accuracy: 0.8115618228912354  | Validation_Accuracy: 0.8049185872077942\n"
          ]
        },
        {
          "output_type": "stream",
          "name": "stderr",
          "text": [
            "\n"
          ]
        },
        {
          "output_type": "stream",
          "name": "stdout",
          "text": [
            "\n",
            "Test Accuracy: 0.7989999651908875 \n",
            "Time taken to Train: 0:06:28.961628\n"
          ]
        },
        {
          "output_type": "execute_result",
          "data": {
            "text/plain": [
              "<matplotlib.legend.Legend at 0x7f1b262749d0>"
            ]
          },
          "metadata": {},
          "execution_count": 31
        },
        {
          "output_type": "display_data",
          "data": {
            "text/plain": [
              "<Figure size 432x288 with 1 Axes>"
            ],
            "image/png": "[encoded data removed]"
          },
          "metadata": {
            "needs_background": "light"
          }
        }
      ],
      "source": [
        "\n",
        "weight_model = copy.deepcopy(BaseModel)\n",
        "weight_penalty_model = Train_Model(weight_model, nn.CrossEntropyLoss(), torch.optim.SGD(weight_model.parameters(), lr=0.01, momentum=0.9, weight_decay=0.05), MulticlassAccuracy, \"Classification\",  device_to_use, 10)\n",
        "\n",
        "start_time = datetime.now()\n",
        "\n",
        "weight_penalty_model.fit(trainLoader, validateLoader, 20)\n",
        "end_time = datetime.now()\n",
        "weight_penalty_model.Test_Model(testLoader)\n",
        "\n",
        "print(\"\\nTest Accuracy:\", weight_penalty_model.Metrics[\"Test_Accuracy\"], \"\\nTime taken to Train:\", end_time - start_time)\n",
        "\n",
        "### PLOTTING METRICS\n",
        "plt.plot(weight_penalty_model.Metrics['Training_Accuracy'], label='Training Accuracy')\n",
        "plt.plot(weight_penalty_model.Metrics['Validation_Accuracy'], label='Validation Accuracy')\n",
        "plt.plot(weight_penalty_model.Metrics['Training_Loss'], label='Training Loss')\n",
        "plt.plot(weight_penalty_model.Metrics['Validation_Loss'], label='Validation Loss')\n",
        "plt.xlabel('Epoch')\n",
        "plt.ylabel('Metric')\n",
        "plt.legend()"
      ],
      "id": "be37eed1-cc7a-4de0-a994-e97314d3e791"
    },
    {
      "cell_type": "markdown",
      "metadata": {
        "id": "b387dc77-cac1-4b9c-987b-7c677de53fb4"
      },
      "source": [
        "### How do the training results change compared to the baseline?\n",
        "\n",
        "Although both the baseline graph and weight added model graph seem to show similar performance, we observe a noticable gap difference in the weight added model between the training and validation accuracy compared to the baseline model and by observing both the results we can say that adding the weight decay did reduce the issue of overfitting our model. For our purpose, we considered the weight_decay as 0.05 and this can be played around to evaulate the model performance.\n"
      ],
      "id": "b387dc77-cac1-4b9c-987b-7c677de53fb4"
    },
    {
      "cell_type": "markdown",
      "metadata": {
        "id": "931c43e3-4cd2-49d4-a40a-1ad95d421538"
      },
      "source": [
        "### 1.c This time add dropout (dropout = 0.3)"
      ],
      "id": "931c43e3-4cd2-49d4-a40a-1ad95d421538"
    },
    {
      "cell_type": "code",
      "execution_count": 32,
      "metadata": {
        "colab": {
          "base_uri": "https://localhost:8080/",
          "height": 0
        },
        "id": "8975d299-00b1-4137-ac2c-209556d39b9f",
        "outputId": "2737a092-d6fa-4d35-ba08-1ab88b8ef0f1"
      },
      "outputs": [
        {
          "output_type": "stream",
          "name": "stdout",
          "text": [
            "Sequential(\n",
            "  (0): Flatten(start_dim=1, end_dim=-1)\n",
            "  (1): LazyLinear(in_features=0, out_features=256, bias=True)\n",
            "  (2): ReLU()\n",
            "  (3): Linear(in_features=256, out_features=128, bias=True)\n",
            "  (4): ReLU()\n",
            "  (5): Dropout(p=0.3, inplace=False)\n",
            "  (6): Linear(in_features=128, out_features=64, bias=True)\n",
            "  (7): ReLU()\n",
            "  (8): Dropout(p=0.3, inplace=False)\n",
            "  (9): Linear(in_features=64, out_features=10, bias=True)\n",
            ")\n"
          ]
        }
      ],
      "source": [
        "Drop_out = copy.deepcopy(BaseModel)\n",
        "Drop_out.insert(5, nn.Dropout(0.3))\n",
        "Drop_out.insert(8, nn.Dropout(0.3))\n",
        "print(Drop_out)"
      ],
      "id": "8975d299-00b1-4137-ac2c-209556d39b9f"
    },
    {
      "cell_type": "code",
      "execution_count": 33,
      "metadata": {
        "colab": {
          "base_uri": "https://localhost:8080/",
          "height": 1779
        },
        "id": "f8debfca-7320-4de5-883f-e2329c165a03",
        "outputId": "4d66038c-b250-45b6-c016-b382fe27d1c5"
      },
      "outputs": [
        {
          "output_type": "stream",
          "name": "stderr",
          "text": [
            "100%|██████████| 188/188 [00:16<00:00, 11.56it/s]"
          ]
        },
        {
          "output_type": "stream",
          "name": "stdout",
          "text": [
            "Current Epoch: 1\n",
            "Training_Loss: 1.166381965609307  | Validation_Loss: 2.308890926077011\n",
            "Training_Accuracy: 0.5760897994041443  | Validation_Accuracy: 0.10030808299779892\n"
          ]
        },
        {
          "output_type": "stream",
          "name": "stderr",
          "text": [
            "\n",
            "100%|██████████| 188/188 [00:16<00:00, 11.42it/s]\n"
          ]
        },
        {
          "output_type": "stream",
          "name": "stdout",
          "text": [
            "Current Epoch: 2\n",
            "Training_Loss: 0.5872640058081201  | Validation_Loss: 0.5720512188495473\n",
            "Training_Accuracy: 0.7894220352172852  | Validation_Accuracy: 0.7837074995040894\n"
          ]
        },
        {
          "output_type": "stream",
          "name": "stderr",
          "text": [
            "100%|██████████| 188/188 [00:15<00:00, 11.89it/s]"
          ]
        },
        {
          "output_type": "stream",
          "name": "stdout",
          "text": [
            "Current Epoch: 3\n",
            "Training_Loss: 0.4953218444864801  | Validation_Loss: 0.45259577352949915\n",
            "Training_Accuracy: 0.8255534768104553  | Validation_Accuracy: 0.8344342112541199\n"
          ]
        },
        {
          "output_type": "stream",
          "name": "stderr",
          "text": [
            "\n",
            "100%|██████████| 188/188 [00:15<00:00, 12.00it/s]"
          ]
        },
        {
          "output_type": "stream",
          "name": "stdout",
          "text": [
            "Current Epoch: 4\n",
            "Training_Loss: 0.4487860104505052  | Validation_Loss: 0.40953093703756943\n",
            "Training_Accuracy: 0.8429778814315796  | Validation_Accuracy: 0.8511654734611511\n"
          ]
        },
        {
          "output_type": "stream",
          "name": "stderr",
          "text": [
            "\n",
            "100%|██████████| 188/188 [00:15<00:00, 12.05it/s]"
          ]
        },
        {
          "output_type": "stream",
          "name": "stdout",
          "text": [
            "Current Epoch: 5\n",
            "Training_Loss: 0.42031944146815764  | Validation_Loss: 0.39410736903231197\n",
            "Training_Accuracy: 0.8524385094642639  | Validation_Accuracy: 0.851655125617981\n"
          ]
        },
        {
          "output_type": "stream",
          "name": "stderr",
          "text": [
            "\n",
            "100%|██████████| 188/188 [00:15<00:00, 11.93it/s]"
          ]
        },
        {
          "output_type": "stream",
          "name": "stdout",
          "text": [
            "Current Epoch: 6\n",
            "Training_Loss: 0.397916408770896  | Validation_Loss: 0.37485564008672184\n",
            "Training_Accuracy: 0.8612020611763  | Validation_Accuracy: 0.8604258894920349\n"
          ]
        },
        {
          "output_type": "stream",
          "name": "stderr",
          "text": [
            "\n",
            "100%|██████████| 188/188 [00:15<00:00, 12.19it/s]"
          ]
        },
        {
          "output_type": "stream",
          "name": "stdout",
          "text": [
            "Current Epoch: 7\n",
            "Training_Loss: 0.3792966255482207  | Validation_Loss: 0.36627969082365647\n",
            "Training_Accuracy: 0.867420494556427  | Validation_Accuracy: 0.8682668209075928\n"
          ]
        },
        {
          "output_type": "stream",
          "name": "stderr",
          "text": [
            "\n",
            "100%|██████████| 188/188 [00:16<00:00, 11.71it/s]"
          ]
        },
        {
          "output_type": "stream",
          "name": "stdout",
          "text": [
            "Current Epoch: 8\n",
            "Training_Loss: 0.3627786678361132  | Validation_Loss: 0.3541715167304303\n",
            "Training_Accuracy: 0.8730224370956421  | Validation_Accuracy: 0.8695382475852966\n"
          ]
        },
        {
          "output_type": "stream",
          "name": "stderr",
          "text": [
            "\n",
            "100%|██████████| 188/188 [00:15<00:00, 11.82it/s]\n"
          ]
        },
        {
          "output_type": "stream",
          "name": "stdout",
          "text": [
            "Current Epoch: 9\n",
            "Training_Loss: 0.3503030892857846  | Validation_Loss: 0.3426747334764359\n",
            "Training_Accuracy: 0.8768774271011353  | Validation_Accuracy: 0.8703455924987793\n"
          ]
        },
        {
          "output_type": "stream",
          "name": "stderr",
          "text": [
            "100%|██████████| 188/188 [00:16<00:00, 11.46it/s]\n"
          ]
        },
        {
          "output_type": "stream",
          "name": "stdout",
          "text": [
            "Current Epoch: 10\n",
            "Training_Loss: 0.33657630350678525  | Validation_Loss: 0.33804376803814096\n",
            "Training_Accuracy: 0.8837140798568726  | Validation_Accuracy: 0.8758836984634399\n"
          ]
        },
        {
          "output_type": "stream",
          "name": "stderr",
          "text": [
            "100%|██████████| 188/188 [00:15<00:00, 12.12it/s]"
          ]
        },
        {
          "output_type": "stream",
          "name": "stdout",
          "text": [
            "Current Epoch: 11\n",
            "Training_Loss: 0.3254699383644348  | Validation_Loss: 0.34516935843102475\n",
            "Training_Accuracy: 0.8869490027427673  | Validation_Accuracy: 0.8726597428321838\n"
          ]
        },
        {
          "output_type": "stream",
          "name": "stderr",
          "text": [
            "\n",
            "100%|██████████| 188/188 [00:15<00:00, 12.01it/s]"
          ]
        },
        {
          "output_type": "stream",
          "name": "stdout",
          "text": [
            "Current Epoch: 12\n",
            "Training_Loss: 0.3134230279383507  | Validation_Loss: 0.32459806730138496\n",
            "Training_Accuracy: 0.8900049924850464  | Validation_Accuracy: 0.8808032274246216\n"
          ]
        },
        {
          "output_type": "stream",
          "name": "stderr",
          "text": [
            "\n",
            "100%|██████████| 188/188 [00:15<00:00, 12.16it/s]"
          ]
        },
        {
          "output_type": "stream",
          "name": "stdout",
          "text": [
            "Current Epoch: 13\n",
            "Training_Loss: 0.3046234538580509  | Validation_Loss: 0.330621397241633\n",
            "Training_Accuracy: 0.89347904920578  | Validation_Accuracy: 0.8758515119552612\n"
          ]
        },
        {
          "output_type": "stream",
          "name": "stderr",
          "text": [
            "\n",
            "100%|██████████| 188/188 [00:15<00:00, 12.04it/s]"
          ]
        },
        {
          "output_type": "stream",
          "name": "stdout",
          "text": [
            "Current Epoch: 14\n",
            "Training_Loss: 0.29498989491703664  | Validation_Loss: 0.32503492115659915\n",
            "Training_Accuracy: 0.8969369530677795  | Validation_Accuracy: 0.8774777054786682\n"
          ]
        },
        {
          "output_type": "stream",
          "name": "stderr",
          "text": [
            "\n",
            "100%|██████████| 188/188 [00:15<00:00, 11.93it/s]"
          ]
        },
        {
          "output_type": "stream",
          "name": "stdout",
          "text": [
            "Current Epoch: 15\n",
            "Training_Loss: 0.28611915891474865  | Validation_Loss: 0.32069388887983685\n",
            "Training_Accuracy: 0.8987576365470886  | Validation_Accuracy: 0.8820980191230774\n"
          ]
        },
        {
          "output_type": "stream",
          "name": "stderr",
          "text": [
            "\n",
            "100%|██████████| 188/188 [00:15<00:00, 12.06it/s]"
          ]
        },
        {
          "output_type": "stream",
          "name": "stdout",
          "text": [
            "Current Epoch: 16\n",
            "Training_Loss: 0.2809142031251116  | Validation_Loss: 0.3111833498833027\n",
            "Training_Accuracy: 0.9019501805305481  | Validation_Accuracy: 0.8856874704360962\n"
          ]
        },
        {
          "output_type": "stream",
          "name": "stderr",
          "text": [
            "\n",
            "100%|██████████| 188/188 [00:15<00:00, 11.81it/s]"
          ]
        },
        {
          "output_type": "stream",
          "name": "stdout",
          "text": [
            "Current Epoch: 17\n",
            "Training_Loss: 0.2729464811371996  | Validation_Loss: 0.31234482723347684\n",
            "Training_Accuracy: 0.9041261076927185  | Validation_Accuracy: 0.8864128589630127\n"
          ]
        },
        {
          "output_type": "stream",
          "name": "stderr",
          "text": [
            "\n",
            "100%|██████████| 188/188 [00:15<00:00, 11.99it/s]"
          ]
        },
        {
          "output_type": "stream",
          "name": "stdout",
          "text": [
            "Current Epoch: 18\n",
            "Training_Loss: 0.26121943776911877  | Validation_Loss: 0.31025107743892266\n",
            "Training_Accuracy: 0.9064929485321045  | Validation_Accuracy: 0.8874361515045166\n"
          ]
        },
        {
          "output_type": "stream",
          "name": "stderr",
          "text": [
            "\n",
            "100%|██████████| 188/188 [00:16<00:00, 11.57it/s]"
          ]
        },
        {
          "output_type": "stream",
          "name": "stdout",
          "text": [
            "Current Epoch: 19\n",
            "Training_Loss: 0.2582324376290149  | Validation_Loss: 0.3104593484325612\n",
            "Training_Accuracy: 0.9086595773696899  | Validation_Accuracy: 0.8877584338188171\n"
          ]
        },
        {
          "output_type": "stream",
          "name": "stderr",
          "text": [
            "\n",
            "100%|██████████| 188/188 [00:15<00:00, 11.93it/s]"
          ]
        },
        {
          "output_type": "stream",
          "name": "stdout",
          "text": [
            "Current Epoch: 20\n",
            "Training_Loss: 0.25425497426631605  | Validation_Loss: 0.3131451885750953\n",
            "Training_Accuracy: 0.9107547402381897  | Validation_Accuracy: 0.8858952522277832\n"
          ]
        },
        {
          "output_type": "stream",
          "name": "stderr",
          "text": [
            "\n"
          ]
        },
        {
          "output_type": "stream",
          "name": "stdout",
          "text": [
            "\n",
            "Test Accuracy: 0.8799999952316284 \n",
            "Time Taken to Train: 0:06:27.701476\n"
          ]
        },
        {
          "output_type": "execute_result",
          "data": {
            "text/plain": [
              "<matplotlib.legend.Legend at 0x7f1b26319ee0>"
            ]
          },
          "metadata": {},
          "execution_count": 33
        },
        {
          "output_type": "display_data",
          "data": {
            "text/plain": [
              "<Figure size 432x288 with 1 Axes>"
            ],
            "image/png": "[encoded data removed]"
          },
          "metadata": {
            "needs_background": "light"
          }
        }
      ],
      "source": [
        "dropout_model = Train_Model(Drop_out, nn.CrossEntropyLoss(), torch.optim.SGD(Drop_out.parameters(), lr=0.01, momentum=0.9), MulticlassAccuracy, \"Classification\",  device_to_use, 10)\n",
        "\n",
        "start_time = datetime.now()\n",
        "\n",
        "dropout_model.fit(trainLoader, validateLoader, 20)\n",
        "end_time = datetime.now()\n",
        "dropout_model.Test_Model(testLoader)\n",
        "\n",
        "print(\"\\nTest Accuracy:\", dropout_model.Metrics[\"Test_Accuracy\"], \"\\nTime Taken to Train:\", end_time - start_time)\n",
        "\n",
        "### PLOTTING METRICS\n",
        "plt.plot(dropout_model.Metrics['Training_Accuracy'], label='Training Accuracy')\n",
        "plt.plot(dropout_model.Metrics['Validation_Accuracy'], label='Validation Accuracy')\n",
        "plt.plot(dropout_model.Metrics['Training_Loss'], label='Training Loss')\n",
        "plt.plot(dropout_model.Metrics['Validation_Loss'], label='Validation Loss')\n",
        "plt.xlabel('Epoch')\n",
        "plt.ylabel('Metric')\n",
        "plt.legend()\n"
      ],
      "id": "f8debfca-7320-4de5-883f-e2329c165a03"
    },
    {
      "cell_type": "markdown",
      "metadata": {
        "id": "d28df2af-1eda-474c-b49c-88ac3f6cd7d9"
      },
      "source": [
        "### How do the training results change compared to the previous two models?\n",
        "\n",
        "This time, both the training and validation accuracies have improved compared to the baseline and weighted_decay models. Tuning the dropout helped the model in reducing the generalization gap between training and validation making the results better."
      ],
      "id": "d28df2af-1eda-474c-b49c-88ac3f6cd7d9"
    },
    {
      "cell_type": "markdown",
      "metadata": {
        "id": "6d625b45-bd39-4c28-ab3e-acb3bf6dd336"
      },
      "source": [
        "### 1.d Repeat problems 1.b and 1.c; This time, load the pre-trained parameters from the storage"
      ],
      "id": "6d625b45-bd39-4c28-ab3e-acb3bf6dd336"
    },
    {
      "cell_type": "code",
      "execution_count": 34,
      "metadata": {
        "colab": {
          "base_uri": "https://localhost:8080/",
          "height": 0
        },
        "id": "29b7caf0-779b-4177-aba3-eb09909675f2",
        "outputId": "5f4712b0-8208-48ea-ec64-ba543ad9f429"
      },
      "outputs": [
        {
          "output_type": "stream",
          "name": "stdout",
          "text": [
            "Sequential(\n",
            "  (0): Flatten(start_dim=1, end_dim=-1)\n",
            "  (1): Linear(in_features=784, out_features=256, bias=True)\n",
            "  (2): ReLU()\n",
            "  (3): Linear(in_features=256, out_features=128, bias=True)\n",
            "  (4): ReLU()\n",
            "  (5): Dropout(p=0.3, inplace=False)\n",
            "  (6): Linear(in_features=128, out_features=64, bias=True)\n",
            "  (7): ReLU()\n",
            "  (8): Dropout(p=0.3, inplace=False)\n",
            "  (9): Linear(in_features=64, out_features=10, bias=True)\n",
            ")\n"
          ]
        }
      ],
      "source": [
        "PretrainedModel = copy.deepcopy(baseline_model_generator.model)\n",
        "PretrainedModel.insert(5, nn.Dropout(0.3))\n",
        "PretrainedModel.insert(8, nn.Dropout(0.3))\n",
        "print(PretrainedModel)"
      ],
      "id": "29b7caf0-779b-4177-aba3-eb09909675f2"
    },
    {
      "cell_type": "code",
      "execution_count": 35,
      "metadata": {
        "colab": {
          "base_uri": "https://localhost:8080/",
          "height": 1779
        },
        "id": "cbe5c715-b2bc-450b-8501-4b0d8ca8b7f7",
        "outputId": "93e88824-4016-468f-a585-5ea05f74365a"
      },
      "outputs": [
        {
          "output_type": "stream",
          "name": "stderr",
          "text": [
            "100%|██████████| 188/188 [00:16<00:00, 11.69it/s]"
          ]
        },
        {
          "output_type": "stream",
          "name": "stdout",
          "text": [
            "Current Epoch: 1\n",
            "Training_Loss: 0.46707451089899593  | Validation_Loss: 0.30776472770153207\n",
            "Training_Accuracy: 0.8490539789199829  | Validation_Accuracy: 0.8878763318061829\n"
          ]
        },
        {
          "output_type": "stream",
          "name": "stderr",
          "text": [
            "\n",
            "100%|██████████| 188/188 [00:15<00:00, 12.28it/s]"
          ]
        },
        {
          "output_type": "stream",
          "name": "stdout",
          "text": [
            "Current Epoch: 2\n",
            "Training_Loss: 0.6254348517098325  | Validation_Loss: 0.48360371970115823\n",
            "Training_Accuracy: 0.8008111119270325  | Validation_Accuracy: 0.8404088020324707\n"
          ]
        },
        {
          "output_type": "stream",
          "name": "stderr",
          "text": [
            "\n",
            "100%|██████████| 188/188 [00:16<00:00, 11.55it/s]"
          ]
        },
        {
          "output_type": "stream",
          "name": "stdout",
          "text": [
            "Current Epoch: 3\n",
            "Training_Loss: 0.6487870114914914  | Validation_Loss: 0.558657392542413\n",
            "Training_Accuracy: 0.7905000448226929  | Validation_Accuracy: 0.8204336762428284\n"
          ]
        },
        {
          "output_type": "stream",
          "name": "stderr",
          "text": [
            "\n",
            "100%|██████████| 188/188 [00:15<00:00, 12.10it/s]"
          ]
        },
        {
          "output_type": "stream",
          "name": "stdout",
          "text": [
            "Current Epoch: 4\n",
            "Training_Loss: 0.6513172927054953  | Validation_Loss: 0.5815457086613838\n",
            "Training_Accuracy: 0.7863602042198181  | Validation_Accuracy: 0.8066273331642151\n"
          ]
        },
        {
          "output_type": "stream",
          "name": "stderr",
          "text": [
            "\n",
            "100%|██████████| 188/188 [00:15<00:00, 12.04it/s]"
          ]
        },
        {
          "output_type": "stream",
          "name": "stdout",
          "text": [
            "Current Epoch: 5\n",
            "Training_Loss: 0.6441115232858252  | Validation_Loss: 0.5701603838737975\n",
            "Training_Accuracy: 0.7915712594985962  | Validation_Accuracy: 0.8110802173614502\n"
          ]
        },
        {
          "output_type": "stream",
          "name": "stderr",
          "text": [
            "\n",
            "100%|██████████| 188/188 [00:15<00:00, 11.93it/s]"
          ]
        },
        {
          "output_type": "stream",
          "name": "stdout",
          "text": [
            "Current Epoch: 6\n",
            "Training_Loss: 0.6411333248970357  | Validation_Loss: 0.567690483433135\n",
            "Training_Accuracy: 0.7934460043907166  | Validation_Accuracy: 0.8124362230300903\n"
          ]
        },
        {
          "output_type": "stream",
          "name": "stderr",
          "text": [
            "\n",
            "100%|██████████| 188/188 [00:15<00:00, 12.19it/s]"
          ]
        },
        {
          "output_type": "stream",
          "name": "stdout",
          "text": [
            "Current Epoch: 7\n",
            "Training_Loss: 0.6388204576487236  | Validation_Loss: 0.562303474608888\n",
            "Training_Accuracy: 0.7907006144523621  | Validation_Accuracy: 0.8145942687988281\n"
          ]
        },
        {
          "output_type": "stream",
          "name": "stderr",
          "text": [
            "\n",
            "100%|██████████| 188/188 [00:15<00:00, 11.84it/s]"
          ]
        },
        {
          "output_type": "stream",
          "name": "stdout",
          "text": [
            "Current Epoch: 8\n",
            "Training_Loss: 0.6369883757322392  | Validation_Loss: 0.5661652081824363\n",
            "Training_Accuracy: 0.7905989289283752  | Validation_Accuracy: 0.8055729866027832\n"
          ]
        },
        {
          "output_type": "stream",
          "name": "stderr",
          "text": [
            "\n",
            "100%|██████████| 188/188 [00:15<00:00, 12.32it/s]"
          ]
        },
        {
          "output_type": "stream",
          "name": "stdout",
          "text": [
            "Current Epoch: 9\n",
            "Training_Loss: 0.6367460955330666  | Validation_Loss: 0.5622074623057183\n",
            "Training_Accuracy: 0.790971577167511  | Validation_Accuracy: 0.8146941661834717\n"
          ]
        },
        {
          "output_type": "stream",
          "name": "stderr",
          "text": [
            "\n",
            "100%|██████████| 188/188 [00:15<00:00, 12.18it/s]"
          ]
        },
        {
          "output_type": "stream",
          "name": "stdout",
          "text": [
            "Current Epoch: 10\n",
            "Training_Loss: 0.6404041007478186  | Validation_Loss: 0.5751925643454207\n",
            "Training_Accuracy: 0.7886437773704529  | Validation_Accuracy: 0.8000040054321289\n"
          ]
        },
        {
          "output_type": "stream",
          "name": "stderr",
          "text": [
            "\n",
            "100%|██████████| 188/188 [00:15<00:00, 12.17it/s]"
          ]
        },
        {
          "output_type": "stream",
          "name": "stdout",
          "text": [
            "Current Epoch: 11\n",
            "Training_Loss: 0.6367578988379621  | Validation_Loss: 0.5555111467838287\n",
            "Training_Accuracy: 0.7917004823684692  | Validation_Accuracy: 0.8160396218299866\n"
          ]
        },
        {
          "output_type": "stream",
          "name": "stderr",
          "text": [
            "\n",
            "100%|██████████| 188/188 [00:15<00:00, 12.15it/s]"
          ]
        },
        {
          "output_type": "stream",
          "name": "stdout",
          "text": [
            "Current Epoch: 12\n",
            "Training_Loss: 0.6366805580068142  | Validation_Loss: 0.5688573546866154\n",
            "Training_Accuracy: 0.7903964519500732  | Validation_Accuracy: 0.8087551593780518\n"
          ]
        },
        {
          "output_type": "stream",
          "name": "stderr",
          "text": [
            "\n",
            "100%|██████████| 188/188 [00:16<00:00, 11.66it/s]"
          ]
        },
        {
          "output_type": "stream",
          "name": "stdout",
          "text": [
            "Current Epoch: 13\n",
            "Training_Loss: 0.6391166099842559  | Validation_Loss: 0.5733889265263334\n",
            "Training_Accuracy: 0.7899972796440125  | Validation_Accuracy: 0.8063159584999084\n"
          ]
        },
        {
          "output_type": "stream",
          "name": "stderr",
          "text": [
            "\n",
            "100%|██████████| 188/188 [00:16<00:00, 11.66it/s]"
          ]
        },
        {
          "output_type": "stream",
          "name": "stdout",
          "text": [
            "Current Epoch: 14\n",
            "Training_Loss: 0.6327658393915664  | Validation_Loss: 0.560727706614961\n",
            "Training_Accuracy: 0.7939309477806091  | Validation_Accuracy: 0.8181354403495789\n"
          ]
        },
        {
          "output_type": "stream",
          "name": "stderr",
          "text": [
            "\n",
            "100%|██████████| 188/188 [00:15<00:00, 11.90it/s]"
          ]
        },
        {
          "output_type": "stream",
          "name": "stdout",
          "text": [
            "Current Epoch: 15\n",
            "Training_Loss: 0.6358336904581557  | Validation_Loss: 0.5650885168542253\n",
            "Training_Accuracy: 0.7920455932617188  | Validation_Accuracy: 0.8128567934036255\n"
          ]
        },
        {
          "output_type": "stream",
          "name": "stderr",
          "text": [
            "\n",
            "100%|██████████| 188/188 [00:15<00:00, 12.09it/s]\n"
          ]
        },
        {
          "output_type": "stream",
          "name": "stdout",
          "text": [
            "Current Epoch: 16\n",
            "Training_Loss: 0.6395877041715257  | Validation_Loss: 0.5780487999002984\n",
            "Training_Accuracy: 0.7897927165031433  | Validation_Accuracy: 0.8046083450317383\n"
          ]
        },
        {
          "output_type": "stream",
          "name": "stderr",
          "text": [
            "100%|██████████| 188/188 [00:16<00:00, 11.42it/s]"
          ]
        },
        {
          "output_type": "stream",
          "name": "stdout",
          "text": [
            "Current Epoch: 17\n",
            "Training_Loss: 0.635272242921464  | Validation_Loss: 0.5738013595976728\n",
            "Training_Accuracy: 0.7916228175163269  | Validation_Accuracy: 0.8023495078086853\n"
          ]
        },
        {
          "output_type": "stream",
          "name": "stderr",
          "text": [
            "\n",
            "100%|██████████| 188/188 [00:15<00:00, 12.05it/s]\n"
          ]
        },
        {
          "output_type": "stream",
          "name": "stdout",
          "text": [
            "Current Epoch: 18\n",
            "Training_Loss: 0.6327496411952567  | Validation_Loss: 0.568142572616009\n",
            "Training_Accuracy: 0.7933149337768555  | Validation_Accuracy: 0.8136730790138245\n"
          ]
        },
        {
          "output_type": "stream",
          "name": "stderr",
          "text": [
            "100%|██████████| 188/188 [00:15<00:00, 11.84it/s]"
          ]
        },
        {
          "output_type": "stream",
          "name": "stdout",
          "text": [
            "Current Epoch: 19\n",
            "Training_Loss: 0.6359841512872818  | Validation_Loss: 0.5617164075374603\n",
            "Training_Accuracy: 0.7913767099380493  | Validation_Accuracy: 0.8142700791358948\n"
          ]
        },
        {
          "output_type": "stream",
          "name": "stderr",
          "text": [
            "\n",
            "100%|██████████| 188/188 [00:15<00:00, 12.17it/s]"
          ]
        },
        {
          "output_type": "stream",
          "name": "stdout",
          "text": [
            "Current Epoch: 20\n",
            "Training_Loss: 0.6342317690240576  | Validation_Loss: 0.575435591504929\n",
            "Training_Accuracy: 0.7935135960578918  | Validation_Accuracy: 0.8072612881660461\n"
          ]
        },
        {
          "output_type": "stream",
          "name": "stderr",
          "text": [
            "\n"
          ]
        },
        {
          "output_type": "stream",
          "name": "stdout",
          "text": [
            "\n",
            "Test Accuracy: 0.8004000186920166 \n",
            "Time Taken to Train: 0:06:25.850510\n"
          ]
        },
        {
          "output_type": "execute_result",
          "data": {
            "text/plain": [
              "<matplotlib.legend.Legend at 0x7f1b25a1e7f0>"
            ]
          },
          "metadata": {},
          "execution_count": 35
        },
        {
          "output_type": "display_data",
          "data": {
            "text/plain": [
              "<Figure size 432x288 with 1 Axes>"
            ],
            "image/png": "[encoded data removed]"
          },
          "metadata": {
            "needs_background": "light"
          }
        }
      ],
      "source": [
        "PretrainedModelTrainer = Train_Model(PretrainedModel, nn.CrossEntropyLoss(), torch.optim.SGD(PretrainedModel.parameters(), lr=0.01, momentum=0.9, weight_decay=0.05), MulticlassAccuracy, \"Classification\", device_to_use, 10)\n",
        "\n",
        "start_time = datetime.now()\n",
        "\n",
        "PretrainedModelTrainer.fit(trainLoader, validateLoader, 20)\n",
        "end_time = datetime.now()\n",
        "PretrainedModelTrainer.Test_Model(testLoader)\n",
        "\n",
        "print(\"\\nTest Accuracy:\", PretrainedModelTrainer.Metrics[\"Test_Accuracy\"], \"\\nTime Taken to Train:\", end_time - start_time)\n",
        "\n",
        "### PLOTTING METRICS\n",
        "plt.plot(PretrainedModelTrainer.Metrics['Training_Accuracy'], label='Training Accuracy')\n",
        "plt.plot(PretrainedModelTrainer.Metrics['Validation_Accuracy'], label='Validation Accuracy')\n",
        "plt.plot(PretrainedModelTrainer.Metrics['Training_Loss'], label='Training Loss')\n",
        "plt.plot(PretrainedModelTrainer.Metrics['Validation_Loss'], label='Validation Loss')\n",
        "plt.xlabel('Epoch')\n",
        "plt.ylabel('Metric')\n",
        "plt.legend()"
      ],
      "id": "cbe5c715-b2bc-450b-8501-4b0d8ca8b7f7"
    },
    {
      "cell_type": "markdown",
      "metadata": {
        "id": "f88cad21-c6ad-4e2b-b961-0e3944b3dc49"
      },
      "source": [
        "### Compare the training time and number of epochs needed against 1.b and 1.c.\n",
        "Time taken by baseline model -- 6:41\n",
        "Time taken by Weight Decay model -- 6:28\n",
        "Time taken by Drop Out model -- 6:27\n",
        "Time taken by Pre-Trained model -- 6:25\n",
        "\n",
        "The training taken by baseline model was higher by around 20 seconds when compared to other models. The rest 3 models appear to have taken similar time taken to train.\n",
        "The base model and the dropout model took similar number of epochs whereas the decay required more number of epochs to converge."
      ],
      "id": "f88cad21-c6ad-4e2b-b961-0e3944b3dc49"
    },
    {
      "cell_type": "markdown",
      "metadata": {
        "id": "08a14d6d-16c3-422f-a71e-07f242b6cabc"
      },
      "source": [
        "## Problem 2 Housing Predictions"
      ],
      "id": "08a14d6d-16c3-422f-a71e-07f242b6cabc"
    },
    {
      "cell_type": "code",
      "execution_count": 36,
      "metadata": {
        "id": "dfb625cf-fd8a-4dba-85fd-8e817b7b9e17"
      },
      "outputs": [],
      "source": [
        "device_to_use = torch.device(\"cuda\" if torch.cuda.is_available() else \"cpu\")"
      ],
      "id": "dfb625cf-fd8a-4dba-85fd-8e817b7b9e17"
    },
    {
      "cell_type": "code",
      "execution_count": 37,
      "metadata": {
        "id": "8209da66-a905-48c1-8f41-84857c1f49ba",
        "colab": {
          "base_uri": "https://localhost:8080/",
          "height": 536
        },
        "outputId": "aa4076d3-126a-40c2-a755-96c5a930f322"
      },
      "outputs": [
        {
          "output_type": "display_data",
          "data": {
            "text/plain": [
              "   Id  MSSubClass MSZoning  LotFrontage  LotArea Street Alley LotShape  \\\n",
              "0   1          60       RL         65.0     8450   Pave   NaN      Reg   \n",
              "1   2          20       RL         80.0     9600   Pave   NaN      Reg   \n",
              "2   3          60       RL         68.0    11250   Pave   NaN      IR1   \n",
              "3   4          70       RL         60.0     9550   Pave   NaN      IR1   \n",
              "4   5          60       RL         84.0    14260   Pave   NaN      IR1   \n",
              "\n",
              "  LandContour Utilities  ... PoolArea PoolQC Fence MiscFeature MiscVal MoSold  \\\n",
              "0         Lvl    AllPub  ...        0    NaN   NaN         NaN       0      2   \n",
              "1         Lvl    AllPub  ...        0    NaN   NaN         NaN       0      5   \n",
              "2         Lvl    AllPub  ...        0    NaN   NaN         NaN       0      9   \n",
              "3         Lvl    AllPub  ...        0    NaN   NaN         NaN       0      2   \n",
              "4         Lvl    AllPub  ...        0    NaN   NaN         NaN       0     12   \n",
              "\n",
              "  YrSold  SaleType  SaleCondition  SalePrice  \n",
              "0   2008        WD         Normal     208500  \n",
              "1   2007        WD         Normal     181500  \n",
              "2   2008        WD         Normal     223500  \n",
              "3   2006        WD        Abnorml     140000  \n",
              "4   2008        WD         Normal     250000  \n",
              "\n",
              "[5 rows x 81 columns]"
            ],
            "text/html": [
              "\n",
              "  <div id=\"df-fcb508af-0925-4351-a3d1-a4c0a7fea02f\">\n",
              "    <div class=\"colab-df-container\">\n",
              "      <div>\n",
              "<style scoped>\n",
              "    .dataframe tbody tr th:only-of-type {\n",
              "        vertical-align: middle;\n",
              "    }\n",
              "\n",
              "    .dataframe tbody tr th {\n",
              "        vertical-align: top;\n",
              "    }\n",
              "\n",
              "    .dataframe thead th {\n",
              "        text-align: right;\n",
              "    }\n",
              "</style>\n",
              "<table border=\"1\" class=\"dataframe\">\n",
              "  <thead>\n",
              "    <tr style=\"text-align: right;\">\n",
              "      <th></th>\n",
              "      <th>Id</th>\n",
              "      <th>MSSubClass</th>\n",
              "      <th>MSZoning</th>\n",
              "      <th>LotFrontage</th>\n",
              "      <th>LotArea</th>\n",
              "      <th>Street</th>\n",
              "      <th>Alley</th>\n",
              "      <th>LotShape</th>\n",
              "      <th>LandContour</th>\n",
              "      <th>Utilities</th>\n",
              "      <th>...</th>\n",
              "      <th>PoolArea</th>\n",
              "      <th>PoolQC</th>\n",
              "      <th>Fence</th>\n",
              "      <th>MiscFeature</th>\n",
              "      <th>MiscVal</th>\n",
              "      <th>MoSold</th>\n",
              "      <th>YrSold</th>\n",
              "      <th>SaleType</th>\n",
              "      <th>SaleCondition</th>\n",
              "      <th>SalePrice</th>\n",
              "    </tr>\n",
              "  </thead>\n",
              "  <tbody>\n",
              "    <tr>\n",
              "      <th>0</th>\n",
              "      <td>1</td>\n",
              "      <td>60</td>\n",
              "      <td>RL</td>\n",
              "      <td>65.0</td>\n",
              "      <td>8450</td>\n",
              "      <td>Pave</td>\n",
              "      <td>NaN</td>\n",
              "      <td>Reg</td>\n",
              "      <td>Lvl</td>\n",
              "      <td>AllPub</td>\n",
              "      <td>...</td>\n",
              "      <td>0</td>\n",
              "      <td>NaN</td>\n",
              "      <td>NaN</td>\n",
              "      <td>NaN</td>\n",
              "      <td>0</td>\n",
              "      <td>2</td>\n",
              "      <td>2008</td>\n",
              "      <td>WD</td>\n",
              "      <td>Normal</td>\n",
              "      <td>208500</td>\n",
              "    </tr>\n",
              "    <tr>\n",
              "      <th>1</th>\n",
              "      <td>2</td>\n",
              "      <td>20</td>\n",
              "      <td>RL</td>\n",
              "      <td>80.0</td>\n",
              "      <td>9600</td>\n",
              "      <td>Pave</td>\n",
              "      <td>NaN</td>\n",
              "      <td>Reg</td>\n",
              "      <td>Lvl</td>\n",
              "      <td>AllPub</td>\n",
              "      <td>...</td>\n",
              "      <td>0</td>\n",
              "      <td>NaN</td>\n",
              "      <td>NaN</td>\n",
              "      <td>NaN</td>\n",
              "      <td>0</td>\n",
              "      <td>5</td>\n",
              "      <td>2007</td>\n",
              "      <td>WD</td>\n",
              "      <td>Normal</td>\n",
              "      <td>181500</td>\n",
              "    </tr>\n",
              "    <tr>\n",
              "      <th>2</th>\n",
              "      <td>3</td>\n",
              "      <td>60</td>\n",
              "      <td>RL</td>\n",
              "      <td>68.0</td>\n",
              "      <td>11250</td>\n",
              "      <td>Pave</td>\n",
              "      <td>NaN</td>\n",
              "      <td>IR1</td>\n",
              "      <td>Lvl</td>\n",
              "      <td>AllPub</td>\n",
              "      <td>...</td>\n",
              "      <td>0</td>\n",
              "      <td>NaN</td>\n",
              "      <td>NaN</td>\n",
              "      <td>NaN</td>\n",
              "      <td>0</td>\n",
              "      <td>9</td>\n",
              "      <td>2008</td>\n",
              "      <td>WD</td>\n",
              "      <td>Normal</td>\n",
              "      <td>223500</td>\n",
              "    </tr>\n",
              "    <tr>\n",
              "      <th>3</th>\n",
              "      <td>4</td>\n",
              "      <td>70</td>\n",
              "      <td>RL</td>\n",
              "      <td>60.0</td>\n",
              "      <td>9550</td>\n",
              "      <td>Pave</td>\n",
              "      <td>NaN</td>\n",
              "      <td>IR1</td>\n",
              "      <td>Lvl</td>\n",
              "      <td>AllPub</td>\n",
              "      <td>...</td>\n",
              "      <td>0</td>\n",
              "      <td>NaN</td>\n",
              "      <td>NaN</td>\n",
              "      <td>NaN</td>\n",
              "      <td>0</td>\n",
              "      <td>2</td>\n",
              "      <td>2006</td>\n",
              "      <td>WD</td>\n",
              "      <td>Abnorml</td>\n",
              "      <td>140000</td>\n",
              "    </tr>\n",
              "    <tr>\n",
              "      <th>4</th>\n",
              "      <td>5</td>\n",
              "      <td>60</td>\n",
              "      <td>RL</td>\n",
              "      <td>84.0</td>\n",
              "      <td>14260</td>\n",
              "      <td>Pave</td>\n",
              "      <td>NaN</td>\n",
              "      <td>IR1</td>\n",
              "      <td>Lvl</td>\n",
              "      <td>AllPub</td>\n",
              "      <td>...</td>\n",
              "      <td>0</td>\n",
              "      <td>NaN</td>\n",
              "      <td>NaN</td>\n",
              "      <td>NaN</td>\n",
              "      <td>0</td>\n",
              "      <td>12</td>\n",
              "      <td>2008</td>\n",
              "      <td>WD</td>\n",
              "      <td>Normal</td>\n",
              "      <td>250000</td>\n",
              "    </tr>\n",
              "  </tbody>\n",
              "</table>\n",
              "<p>5 rows × 81 columns</p>\n",
              "</div>\n",
              "      <button class=\"colab-df-convert\" onclick=\"convertToInteractive('df-fcb508af-0925-4351-a3d1-a4c0a7fea02f')\"\n",
              "              title=\"Convert this dataframe to an interactive table.\"\n",
              "              style=\"display:none;\">\n",
              "        \n",
              "  <svg xmlns=\"http://www.w3.org/2000/svg\" height=\"24px\"viewBox=\"0 0 24 24\"\n",
              "       width=\"24px\">\n",
              "    <path d=\"M0 0h24v24H0V0z\" fill=\"none\"/>\n",
              "    <path d=\"M18.56 5.44l.94 2.06.94-2.06 2.06-.94-2.06-.94-.94-2.06-.94 2.06-2.06.94zm-11 1L8.5 8.5l.94-2.06 2.06-.94-2.06-.94L8.5 2.5l-.94 2.06-2.06.94zm10 10l.94 2.06.94-2.06 2.06-.94-2.06-.94-.94-2.06-.94 2.06-2.06.94z\"/><path d=\"M17.41 7.96l-1.37-1.37c-.4-.4-.92-.59-1.43-.59-.52 0-1.04.2-1.43.59L10.3 9.45l-7.72 7.72c-.78.78-.78 2.05 0 2.83L4 21.41c.39.39.9.59 1.41.59.51 0 1.02-.2 1.41-.59l7.78-7.78 2.81-2.81c.8-.78.8-2.07 0-2.86zM5.41 20L4 18.59l7.72-7.72 1.47 1.35L5.41 20z\"/>\n",
              "  </svg>\n",
              "      </button>\n",
              "      \n",
              "  <style>\n",
              "    .colab-df-container {\n",
              "      display:flex;\n",
              "      flex-wrap:wrap;\n",
              "      gap: 12px;\n",
              "    }\n",
              "\n",
              "    .colab-df-convert {\n",
              "      background-color: #E8F0FE;\n",
              "      border: none;\n",
              "      border-radius: 50%;\n",
              "      cursor: pointer;\n",
              "      display: none;\n",
              "      fill: #1967D2;\n",
              "      height: 32px;\n",
              "      padding: 0 0 0 0;\n",
              "      width: 32px;\n",
              "    }\n",
              "\n",
              "    .colab-df-convert:hover {\n",
              "      background-color: #E2EBFA;\n",
              "      box-shadow: 0px 1px 2px rgba(60, 64, 67, 0.3), 0px 1px 3px 1px rgba(60, 64, 67, 0.15);\n",
              "      fill: #174EA6;\n",
              "    }\n",
              "\n",
              "    [theme=dark] .colab-df-convert {\n",
              "      background-color: #3B4455;\n",
              "      fill: #D2E3FC;\n",
              "    }\n",
              "\n",
              "    [theme=dark] .colab-df-convert:hover {\n",
              "      background-color: #434B5C;\n",
              "      box-shadow: 0px 1px 3px 1px rgba(0, 0, 0, 0.15);\n",
              "      filter: drop-shadow(0px 1px 2px rgba(0, 0, 0, 0.3));\n",
              "      fill: #FFFFFF;\n",
              "    }\n",
              "  </style>\n",
              "\n",
              "      <script>\n",
              "        const buttonEl =\n",
              "          document.querySelector('#df-fcb508af-0925-4351-a3d1-a4c0a7fea02f button.colab-df-convert');\n",
              "        buttonEl.style.display =\n",
              "          google.colab.kernel.accessAllowed ? 'block' : 'none';\n",
              "\n",
              "        async function convertToInteractive(key) {\n",
              "          const element = document.querySelector('#df-fcb508af-0925-4351-a3d1-a4c0a7fea02f');\n",
              "          const dataTable =\n",
              "            await google.colab.kernel.invokeFunction('convertToInteractive',\n",
              "                                                     [key], {});\n",
              "          if (!dataTable) return;\n",
              "\n",
              "          const docLinkHtml = 'Like what you see? Visit the ' +\n",
              "            '<a target=\"_blank\" href=https://colab.research.google.com/notebooks/data_table.ipynb>data table notebook</a>'\n",
              "            + ' to learn more about interactive tables.';\n",
              "          element.innerHTML = '';\n",
              "          dataTable['output_type'] = 'display_data';\n",
              "          await google.colab.output.renderOutput(dataTable, element);\n",
              "          const docLink = document.createElement('div');\n",
              "          docLink.innerHTML = docLinkHtml;\n",
              "          element.appendChild(docLink);\n",
              "        }\n",
              "      </script>\n",
              "    </div>\n",
              "  </div>\n",
              "  "
            ]
          },
          "metadata": {}
        },
        {
          "output_type": "display_data",
          "data": {
            "text/plain": [
              "     Id  MSSubClass MSZoning  LotFrontage  LotArea Street Alley LotShape  \\\n",
              "0  1461          20       RH         80.0    11622   Pave   NaN      Reg   \n",
              "1  1462          20       RL         81.0    14267   Pave   NaN      IR1   \n",
              "2  1463          60       RL         74.0    13830   Pave   NaN      IR1   \n",
              "3  1464          60       RL         78.0     9978   Pave   NaN      IR1   \n",
              "4  1465         120       RL         43.0     5005   Pave   NaN      IR1   \n",
              "\n",
              "  LandContour Utilities  ... ScreenPorch PoolArea PoolQC  Fence MiscFeature  \\\n",
              "0         Lvl    AllPub  ...         120        0    NaN  MnPrv         NaN   \n",
              "1         Lvl    AllPub  ...           0        0    NaN    NaN        Gar2   \n",
              "2         Lvl    AllPub  ...           0        0    NaN  MnPrv         NaN   \n",
              "3         Lvl    AllPub  ...           0        0    NaN    NaN         NaN   \n",
              "4         HLS    AllPub  ...         144        0    NaN    NaN         NaN   \n",
              "\n",
              "  MiscVal MoSold  YrSold  SaleType  SaleCondition  \n",
              "0       0      6    2010        WD         Normal  \n",
              "1   12500      6    2010        WD         Normal  \n",
              "2       0      3    2010        WD         Normal  \n",
              "3       0      6    2010        WD         Normal  \n",
              "4       0      1    2010        WD         Normal  \n",
              "\n",
              "[5 rows x 80 columns]"
            ],
            "text/html": [
              "\n",
              "  <div id=\"df-ecb135cc-ca8d-4c86-b1f7-d07afa8b236d\">\n",
              "    <div class=\"colab-df-container\">\n",
              "      <div>\n",
              "<style scoped>\n",
              "    .dataframe tbody tr th:only-of-type {\n",
              "        vertical-align: middle;\n",
              "    }\n",
              "\n",
              "    .dataframe tbody tr th {\n",
              "        vertical-align: top;\n",
              "    }\n",
              "\n",
              "    .dataframe thead th {\n",
              "        text-align: right;\n",
              "    }\n",
              "</style>\n",
              "<table border=\"1\" class=\"dataframe\">\n",
              "  <thead>\n",
              "    <tr style=\"text-align: right;\">\n",
              "      <th></th>\n",
              "      <th>Id</th>\n",
              "      <th>MSSubClass</th>\n",
              "      <th>MSZoning</th>\n",
              "      <th>LotFrontage</th>\n",
              "      <th>LotArea</th>\n",
              "      <th>Street</th>\n",
              "      <th>Alley</th>\n",
              "      <th>LotShape</th>\n",
              "      <th>LandContour</th>\n",
              "      <th>Utilities</th>\n",
              "      <th>...</th>\n",
              "      <th>ScreenPorch</th>\n",
              "      <th>PoolArea</th>\n",
              "      <th>PoolQC</th>\n",
              "      <th>Fence</th>\n",
              "      <th>MiscFeature</th>\n",
              "      <th>MiscVal</th>\n",
              "      <th>MoSold</th>\n",
              "      <th>YrSold</th>\n",
              "      <th>SaleType</th>\n",
              "      <th>SaleCondition</th>\n",
              "    </tr>\n",
              "  </thead>\n",
              "  <tbody>\n",
              "    <tr>\n",
              "      <th>0</th>\n",
              "      <td>1461</td>\n",
              "      <td>20</td>\n",
              "      <td>RH</td>\n",
              "      <td>80.0</td>\n",
              "      <td>11622</td>\n",
              "      <td>Pave</td>\n",
              "      <td>NaN</td>\n",
              "      <td>Reg</td>\n",
              "      <td>Lvl</td>\n",
              "      <td>AllPub</td>\n",
              "      <td>...</td>\n",
              "      <td>120</td>\n",
              "      <td>0</td>\n",
              "      <td>NaN</td>\n",
              "      <td>MnPrv</td>\n",
              "      <td>NaN</td>\n",
              "      <td>0</td>\n",
              "      <td>6</td>\n",
              "      <td>2010</td>\n",
              "      <td>WD</td>\n",
              "      <td>Normal</td>\n",
              "    </tr>\n",
              "    <tr>\n",
              "      <th>1</th>\n",
              "      <td>1462</td>\n",
              "      <td>20</td>\n",
              "      <td>RL</td>\n",
              "      <td>81.0</td>\n",
              "      <td>14267</td>\n",
              "      <td>Pave</td>\n",
              "      <td>NaN</td>\n",
              "      <td>IR1</td>\n",
              "      <td>Lvl</td>\n",
              "      <td>AllPub</td>\n",
              "      <td>...</td>\n",
              "      <td>0</td>\n",
              "      <td>0</td>\n",
              "      <td>NaN</td>\n",
              "      <td>NaN</td>\n",
              "      <td>Gar2</td>\n",
              "      <td>12500</td>\n",
              "      <td>6</td>\n",
              "      <td>2010</td>\n",
              "      <td>WD</td>\n",
              "      <td>Normal</td>\n",
              "    </tr>\n",
              "    <tr>\n",
              "      <th>2</th>\n",
              "      <td>1463</td>\n",
              "      <td>60</td>\n",
              "      <td>RL</td>\n",
              "      <td>74.0</td>\n",
              "      <td>13830</td>\n",
              "      <td>Pave</td>\n",
              "      <td>NaN</td>\n",
              "      <td>IR1</td>\n",
              "      <td>Lvl</td>\n",
              "      <td>AllPub</td>\n",
              "      <td>...</td>\n",
              "      <td>0</td>\n",
              "      <td>0</td>\n",
              "      <td>NaN</td>\n",
              "      <td>MnPrv</td>\n",
              "      <td>NaN</td>\n",
              "      <td>0</td>\n",
              "      <td>3</td>\n",
              "      <td>2010</td>\n",
              "      <td>WD</td>\n",
              "      <td>Normal</td>\n",
              "    </tr>\n",
              "    <tr>\n",
              "      <th>3</th>\n",
              "      <td>1464</td>\n",
              "      <td>60</td>\n",
              "      <td>RL</td>\n",
              "      <td>78.0</td>\n",
              "      <td>9978</td>\n",
              "      <td>Pave</td>\n",
              "      <td>NaN</td>\n",
              "      <td>IR1</td>\n",
              "      <td>Lvl</td>\n",
              "      <td>AllPub</td>\n",
              "      <td>...</td>\n",
              "      <td>0</td>\n",
              "      <td>0</td>\n",
              "      <td>NaN</td>\n",
              "      <td>NaN</td>\n",
              "      <td>NaN</td>\n",
              "      <td>0</td>\n",
              "      <td>6</td>\n",
              "      <td>2010</td>\n",
              "      <td>WD</td>\n",
              "      <td>Normal</td>\n",
              "    </tr>\n",
              "    <tr>\n",
              "      <th>4</th>\n",
              "      <td>1465</td>\n",
              "      <td>120</td>\n",
              "      <td>RL</td>\n",
              "      <td>43.0</td>\n",
              "      <td>5005</td>\n",
              "      <td>Pave</td>\n",
              "      <td>NaN</td>\n",
              "      <td>IR1</td>\n",
              "      <td>HLS</td>\n",
              "      <td>AllPub</td>\n",
              "      <td>...</td>\n",
              "      <td>144</td>\n",
              "      <td>0</td>\n",
              "      <td>NaN</td>\n",
              "      <td>NaN</td>\n",
              "      <td>NaN</td>\n",
              "      <td>0</td>\n",
              "      <td>1</td>\n",
              "      <td>2010</td>\n",
              "      <td>WD</td>\n",
              "      <td>Normal</td>\n",
              "    </tr>\n",
              "  </tbody>\n",
              "</table>\n",
              "<p>5 rows × 80 columns</p>\n",
              "</div>\n",
              "      <button class=\"colab-df-convert\" onclick=\"convertToInteractive('df-ecb135cc-ca8d-4c86-b1f7-d07afa8b236d')\"\n",
              "              title=\"Convert this dataframe to an interactive table.\"\n",
              "              style=\"display:none;\">\n",
              "        \n",
              "  <svg xmlns=\"http://www.w3.org/2000/svg\" height=\"24px\"viewBox=\"0 0 24 24\"\n",
              "       width=\"24px\">\n",
              "    <path d=\"M0 0h24v24H0V0z\" fill=\"none\"/>\n",
              "    <path d=\"M18.56 5.44l.94 2.06.94-2.06 2.06-.94-2.06-.94-.94-2.06-.94 2.06-2.06.94zm-11 1L8.5 8.5l.94-2.06 2.06-.94-2.06-.94L8.5 2.5l-.94 2.06-2.06.94zm10 10l.94 2.06.94-2.06 2.06-.94-2.06-.94-.94-2.06-.94 2.06-2.06.94z\"/><path d=\"M17.41 7.96l-1.37-1.37c-.4-.4-.92-.59-1.43-.59-.52 0-1.04.2-1.43.59L10.3 9.45l-7.72 7.72c-.78.78-.78 2.05 0 2.83L4 21.41c.39.39.9.59 1.41.59.51 0 1.02-.2 1.41-.59l7.78-7.78 2.81-2.81c.8-.78.8-2.07 0-2.86zM5.41 20L4 18.59l7.72-7.72 1.47 1.35L5.41 20z\"/>\n",
              "  </svg>\n",
              "      </button>\n",
              "      \n",
              "  <style>\n",
              "    .colab-df-container {\n",
              "      display:flex;\n",
              "      flex-wrap:wrap;\n",
              "      gap: 12px;\n",
              "    }\n",
              "\n",
              "    .colab-df-convert {\n",
              "      background-color: #E8F0FE;\n",
              "      border: none;\n",
              "      border-radius: 50%;\n",
              "      cursor: pointer;\n",
              "      display: none;\n",
              "      fill: #1967D2;\n",
              "      height: 32px;\n",
              "      padding: 0 0 0 0;\n",
              "      width: 32px;\n",
              "    }\n",
              "\n",
              "    .colab-df-convert:hover {\n",
              "      background-color: #E2EBFA;\n",
              "      box-shadow: 0px 1px 2px rgba(60, 64, 67, 0.3), 0px 1px 3px 1px rgba(60, 64, 67, 0.15);\n",
              "      fill: #174EA6;\n",
              "    }\n",
              "\n",
              "    [theme=dark] .colab-df-convert {\n",
              "      background-color: #3B4455;\n",
              "      fill: #D2E3FC;\n",
              "    }\n",
              "\n",
              "    [theme=dark] .colab-df-convert:hover {\n",
              "      background-color: #434B5C;\n",
              "      box-shadow: 0px 1px 3px 1px rgba(0, 0, 0, 0.15);\n",
              "      filter: drop-shadow(0px 1px 2px rgba(0, 0, 0, 0.3));\n",
              "      fill: #FFFFFF;\n",
              "    }\n",
              "  </style>\n",
              "\n",
              "      <script>\n",
              "        const buttonEl =\n",
              "          document.querySelector('#df-ecb135cc-ca8d-4c86-b1f7-d07afa8b236d button.colab-df-convert');\n",
              "        buttonEl.style.display =\n",
              "          google.colab.kernel.accessAllowed ? 'block' : 'none';\n",
              "\n",
              "        async function convertToInteractive(key) {\n",
              "          const element = document.querySelector('#df-ecb135cc-ca8d-4c86-b1f7-d07afa8b236d');\n",
              "          const dataTable =\n",
              "            await google.colab.kernel.invokeFunction('convertToInteractive',\n",
              "                                                     [key], {});\n",
              "          if (!dataTable) return;\n",
              "\n",
              "          const docLinkHtml = 'Like what you see? Visit the ' +\n",
              "            '<a target=\"_blank\" href=https://colab.research.google.com/notebooks/data_table.ipynb>data table notebook</a>'\n",
              "            + ' to learn more about interactive tables.';\n",
              "          element.innerHTML = '';\n",
              "          dataTable['output_type'] = 'display_data';\n",
              "          await google.colab.output.renderOutput(dataTable, element);\n",
              "          const docLink = document.createElement('div');\n",
              "          docLink.innerHTML = docLinkHtml;\n",
              "          element.appendChild(docLink);\n",
              "        }\n",
              "      </script>\n",
              "    </div>\n",
              "  </div>\n",
              "  "
            ]
          },
          "metadata": {}
        },
        {
          "output_type": "execute_result",
          "data": {
            "text/plain": [
              "(None, None)"
            ]
          },
          "metadata": {},
          "execution_count": 37
        }
      ],
      "source": [
        "train_df = pd.read_csv(\"/content/datasets/Housing Data/train.csv\")\n",
        "test_df = pd.read_csv(\"/content/datasets/Housing Data/test.csv\")\n",
        "display(train_df.head()),display(test_df.head())"
      ],
      "id": "8209da66-a905-48c1-8f41-84857c1f49ba"
    },
    {
      "cell_type": "markdown",
      "metadata": {
        "id": "6ac0df8f-6fbe-4cc2-8459-2fd73908bfdb"
      },
      "source": [
        "### 2.a What happens if we need to standardize the continuous numerical features?\n",
        "Standardizing the data helps in fixing missing values or correcting incorrect data which includes having textual informaiton in numerical column or such similar cases. Upon standardizing, the model understands the data better and makes better predictions."
      ],
      "id": "6ac0df8f-6fbe-4cc2-8459-2fd73908bfdb"
    },
    {
      "cell_type": "code",
      "execution_count": 38,
      "metadata": {
        "id": "78ee7e23-1101-4863-a115-896861b86988"
      },
      "outputs": [],
      "source": [
        "def data_preprocessor(train_data, test_data, label='SalePrice'):\n",
        "    \n",
        "    features_all = pd.concat((train_data.drop(columns=['Id', label]), test_data.drop(columns=['Id'])))\n",
        "    numeric_features = features_all.dtypes[features_all.dtypes != 'object'].index\n",
        "    \n",
        "    features_all[numeric_features] = features_all[numeric_features].apply(lambda x: (x - x.mean()) / (x.std()))\n",
        "    features_all[numeric_features] = features_all[numeric_features].fillna(0)\n",
        "    features_all = pd.get_dummies(features_all, dummy_na=True)\n",
        "    \n",
        "    train_df = features_all[:train_data.shape[0]].copy()\n",
        "    \n",
        "    normVals = (train_data[label].mean(), train_data[label].std())\n",
        "    print(normVals)\n",
        "    \n",
        "    train_df[label] = ( train_data[label] - normVals[0] ) / normVals[1]\n",
        "    test_df = features_all[train_data.shape[0]:].copy()\n",
        "    \n",
        "    return train_df, test_df"
      ],
      "id": "78ee7e23-1101-4863-a115-896861b86988"
    },
    {
      "cell_type": "code",
      "execution_count": 39,
      "metadata": {
        "id": "66a9c354-2557-4c5f-a6c8-ebe29e4c8457",
        "colab": {
          "base_uri": "https://localhost:8080/",
          "height": 317
        },
        "outputId": "c90a1f4e-2673-40ae-fdc9-2f4ea65d84b8"
      },
      "outputs": [
        {
          "output_type": "stream",
          "name": "stdout",
          "text": [
            "(180921.19589041095, 79442.50288288662)\n"
          ]
        },
        {
          "output_type": "execute_result",
          "data": {
            "text/plain": [
              "   MSSubClass  LotFrontage   LotArea  OverallQual  OverallCond  YearBuilt  \\\n",
              "0   -0.873466     0.458096  0.184340    -0.772420     0.391170  -0.340452   \n",
              "1   -0.873466     0.500932  0.519702    -0.063174     0.391170  -0.439490   \n",
              "2    0.067320     0.201080  0.464294    -0.772420    -0.507197   0.848003   \n",
              "3    0.067320     0.372424 -0.024105    -0.063174     0.391170   0.881015   \n",
              "4    1.478499    -1.126832 -0.654636     1.355319    -0.507197   0.682939   \n",
              "\n",
              "   YearRemodAdd  MasVnrArea  BsmtFinSF1  BsmtFinSF2  ...  SaleType_Oth  \\\n",
              "0     -1.113434   -0.569893    0.058332    0.558006  ...             0   \n",
              "1     -1.257014    0.032335    1.056991   -0.293030  ...             0   \n",
              "2      0.657380   -0.569893    0.767271   -0.293030  ...             0   \n",
              "3      0.657380   -0.458369    0.352443   -0.293030  ...             0   \n",
              "4      0.370221   -0.569893   -0.391613   -0.293030  ...             0   \n",
              "\n",
              "   SaleType_WD  SaleType_nan  SaleCondition_Abnorml  SaleCondition_AdjLand  \\\n",
              "0            1             0                      0                      0   \n",
              "1            1             0                      0                      0   \n",
              "2            1             0                      0                      0   \n",
              "3            1             0                      0                      0   \n",
              "4            1             0                      0                      0   \n",
              "\n",
              "   SaleCondition_Alloca  SaleCondition_Family  SaleCondition_Normal  \\\n",
              "0                     0                     0                     1   \n",
              "1                     0                     0                     1   \n",
              "2                     0                     0                     1   \n",
              "3                     0                     0                     1   \n",
              "4                     0                     0                     1   \n",
              "\n",
              "   SaleCondition_Partial  SaleCondition_nan  \n",
              "0                      0                  0  \n",
              "1                      0                  0  \n",
              "2                      0                  0  \n",
              "3                      0                  0  \n",
              "4                      0                  0  \n",
              "\n",
              "[5 rows x 331 columns]"
            ],
            "text/html": [
              "\n",
              "  <div id=\"df-20cfedb4-8dba-4dcc-8a7a-4283d3bcf821\">\n",
              "    <div class=\"colab-df-container\">\n",
              "      <div>\n",
              "<style scoped>\n",
              "    .dataframe tbody tr th:only-of-type {\n",
              "        vertical-align: middle;\n",
              "    }\n",
              "\n",
              "    .dataframe tbody tr th {\n",
              "        vertical-align: top;\n",
              "    }\n",
              "\n",
              "    .dataframe thead th {\n",
              "        text-align: right;\n",
              "    }\n",
              "</style>\n",
              "<table border=\"1\" class=\"dataframe\">\n",
              "  <thead>\n",
              "    <tr style=\"text-align: right;\">\n",
              "      <th></th>\n",
              "      <th>MSSubClass</th>\n",
              "      <th>LotFrontage</th>\n",
              "      <th>LotArea</th>\n",
              "      <th>OverallQual</th>\n",
              "      <th>OverallCond</th>\n",
              "      <th>YearBuilt</th>\n",
              "      <th>YearRemodAdd</th>\n",
              "      <th>MasVnrArea</th>\n",
              "      <th>BsmtFinSF1</th>\n",
              "      <th>BsmtFinSF2</th>\n",
              "      <th>...</th>\n",
              "      <th>SaleType_Oth</th>\n",
              "      <th>SaleType_WD</th>\n",
              "      <th>SaleType_nan</th>\n",
              "      <th>SaleCondition_Abnorml</th>\n",
              "      <th>SaleCondition_AdjLand</th>\n",
              "      <th>SaleCondition_Alloca</th>\n",
              "      <th>SaleCondition_Family</th>\n",
              "      <th>SaleCondition_Normal</th>\n",
              "      <th>SaleCondition_Partial</th>\n",
              "      <th>SaleCondition_nan</th>\n",
              "    </tr>\n",
              "  </thead>\n",
              "  <tbody>\n",
              "    <tr>\n",
              "      <th>0</th>\n",
              "      <td>-0.873466</td>\n",
              "      <td>0.458096</td>\n",
              "      <td>0.184340</td>\n",
              "      <td>-0.772420</td>\n",
              "      <td>0.391170</td>\n",
              "      <td>-0.340452</td>\n",
              "      <td>-1.113434</td>\n",
              "      <td>-0.569893</td>\n",
              "      <td>0.058332</td>\n",
              "      <td>0.558006</td>\n",
              "      <td>...</td>\n",
              "      <td>0</td>\n",
              "      <td>1</td>\n",
              "      <td>0</td>\n",
              "      <td>0</td>\n",
              "      <td>0</td>\n",
              "      <td>0</td>\n",
              "      <td>0</td>\n",
              "      <td>1</td>\n",
              "      <td>0</td>\n",
              "      <td>0</td>\n",
              "    </tr>\n",
              "    <tr>\n",
              "      <th>1</th>\n",
              "      <td>-0.873466</td>\n",
              "      <td>0.500932</td>\n",
              "      <td>0.519702</td>\n",
              "      <td>-0.063174</td>\n",
              "      <td>0.391170</td>\n",
              "      <td>-0.439490</td>\n",
              "      <td>-1.257014</td>\n",
              "      <td>0.032335</td>\n",
              "      <td>1.056991</td>\n",
              "      <td>-0.293030</td>\n",
              "      <td>...</td>\n",
              "      <td>0</td>\n",
              "      <td>1</td>\n",
              "      <td>0</td>\n",
              "      <td>0</td>\n",
              "      <td>0</td>\n",
              "      <td>0</td>\n",
              "      <td>0</td>\n",
              "      <td>1</td>\n",
              "      <td>0</td>\n",
              "      <td>0</td>\n",
              "    </tr>\n",
              "    <tr>\n",
              "      <th>2</th>\n",
              "      <td>0.067320</td>\n",
              "      <td>0.201080</td>\n",
              "      <td>0.464294</td>\n",
              "      <td>-0.772420</td>\n",
              "      <td>-0.507197</td>\n",
              "      <td>0.848003</td>\n",
              "      <td>0.657380</td>\n",
              "      <td>-0.569893</td>\n",
              "      <td>0.767271</td>\n",
              "      <td>-0.293030</td>\n",
              "      <td>...</td>\n",
              "      <td>0</td>\n",
              "      <td>1</td>\n",
              "      <td>0</td>\n",
              "      <td>0</td>\n",
              "      <td>0</td>\n",
              "      <td>0</td>\n",
              "      <td>0</td>\n",
              "      <td>1</td>\n",
              "      <td>0</td>\n",
              "      <td>0</td>\n",
              "    </tr>\n",
              "    <tr>\n",
              "      <th>3</th>\n",
              "      <td>0.067320</td>\n",
              "      <td>0.372424</td>\n",
              "      <td>-0.024105</td>\n",
              "      <td>-0.063174</td>\n",
              "      <td>0.391170</td>\n",
              "      <td>0.881015</td>\n",
              "      <td>0.657380</td>\n",
              "      <td>-0.458369</td>\n",
              "      <td>0.352443</td>\n",
              "      <td>-0.293030</td>\n",
              "      <td>...</td>\n",
              "      <td>0</td>\n",
              "      <td>1</td>\n",
              "      <td>0</td>\n",
              "      <td>0</td>\n",
              "      <td>0</td>\n",
              "      <td>0</td>\n",
              "      <td>0</td>\n",
              "      <td>1</td>\n",
              "      <td>0</td>\n",
              "      <td>0</td>\n",
              "    </tr>\n",
              "    <tr>\n",
              "      <th>4</th>\n",
              "      <td>1.478499</td>\n",
              "      <td>-1.126832</td>\n",
              "      <td>-0.654636</td>\n",
              "      <td>1.355319</td>\n",
              "      <td>-0.507197</td>\n",
              "      <td>0.682939</td>\n",
              "      <td>0.370221</td>\n",
              "      <td>-0.569893</td>\n",
              "      <td>-0.391613</td>\n",
              "      <td>-0.293030</td>\n",
              "      <td>...</td>\n",
              "      <td>0</td>\n",
              "      <td>1</td>\n",
              "      <td>0</td>\n",
              "      <td>0</td>\n",
              "      <td>0</td>\n",
              "      <td>0</td>\n",
              "      <td>0</td>\n",
              "      <td>1</td>\n",
              "      <td>0</td>\n",
              "      <td>0</td>\n",
              "    </tr>\n",
              "  </tbody>\n",
              "</table>\n",
              "<p>5 rows × 331 columns</p>\n",
              "</div>\n",
              "      <button class=\"colab-df-convert\" onclick=\"convertToInteractive('df-20cfedb4-8dba-4dcc-8a7a-4283d3bcf821')\"\n",
              "              title=\"Convert this dataframe to an interactive table.\"\n",
              "              style=\"display:none;\">\n",
              "        \n",
              "  <svg xmlns=\"http://www.w3.org/2000/svg\" height=\"24px\"viewBox=\"0 0 24 24\"\n",
              "       width=\"24px\">\n",
              "    <path d=\"M0 0h24v24H0V0z\" fill=\"none\"/>\n",
              "    <path d=\"M18.56 5.44l.94 2.06.94-2.06 2.06-.94-2.06-.94-.94-2.06-.94 2.06-2.06.94zm-11 1L8.5 8.5l.94-2.06 2.06-.94-2.06-.94L8.5 2.5l-.94 2.06-2.06.94zm10 10l.94 2.06.94-2.06 2.06-.94-2.06-.94-.94-2.06-.94 2.06-2.06.94z\"/><path d=\"M17.41 7.96l-1.37-1.37c-.4-.4-.92-.59-1.43-.59-.52 0-1.04.2-1.43.59L10.3 9.45l-7.72 7.72c-.78.78-.78 2.05 0 2.83L4 21.41c.39.39.9.59 1.41.59.51 0 1.02-.2 1.41-.59l7.78-7.78 2.81-2.81c.8-.78.8-2.07 0-2.86zM5.41 20L4 18.59l7.72-7.72 1.47 1.35L5.41 20z\"/>\n",
              "  </svg>\n",
              "      </button>\n",
              "      \n",
              "  <style>\n",
              "    .colab-df-container {\n",
              "      display:flex;\n",
              "      flex-wrap:wrap;\n",
              "      gap: 12px;\n",
              "    }\n",
              "\n",
              "    .colab-df-convert {\n",
              "      background-color: #E8F0FE;\n",
              "      border: none;\n",
              "      border-radius: 50%;\n",
              "      cursor: pointer;\n",
              "      display: none;\n",
              "      fill: #1967D2;\n",
              "      height: 32px;\n",
              "      padding: 0 0 0 0;\n",
              "      width: 32px;\n",
              "    }\n",
              "\n",
              "    .colab-df-convert:hover {\n",
              "      background-color: #E2EBFA;\n",
              "      box-shadow: 0px 1px 2px rgba(60, 64, 67, 0.3), 0px 1px 3px 1px rgba(60, 64, 67, 0.15);\n",
              "      fill: #174EA6;\n",
              "    }\n",
              "\n",
              "    [theme=dark] .colab-df-convert {\n",
              "      background-color: #3B4455;\n",
              "      fill: #D2E3FC;\n",
              "    }\n",
              "\n",
              "    [theme=dark] .colab-df-convert:hover {\n",
              "      background-color: #434B5C;\n",
              "      box-shadow: 0px 1px 3px 1px rgba(0, 0, 0, 0.15);\n",
              "      filter: drop-shadow(0px 1px 2px rgba(0, 0, 0, 0.3));\n",
              "      fill: #FFFFFF;\n",
              "    }\n",
              "  </style>\n",
              "\n",
              "      <script>\n",
              "        const buttonEl =\n",
              "          document.querySelector('#df-20cfedb4-8dba-4dcc-8a7a-4283d3bcf821 button.colab-df-convert');\n",
              "        buttonEl.style.display =\n",
              "          google.colab.kernel.accessAllowed ? 'block' : 'none';\n",
              "\n",
              "        async function convertToInteractive(key) {\n",
              "          const element = document.querySelector('#df-20cfedb4-8dba-4dcc-8a7a-4283d3bcf821');\n",
              "          const dataTable =\n",
              "            await google.colab.kernel.invokeFunction('convertToInteractive',\n",
              "                                                     [key], {});\n",
              "          if (!dataTable) return;\n",
              "\n",
              "          const docLinkHtml = 'Like what you see? Visit the ' +\n",
              "            '<a target=\"_blank\" href=https://colab.research.google.com/notebooks/data_table.ipynb>data table notebook</a>'\n",
              "            + ' to learn more about interactive tables.';\n",
              "          element.innerHTML = '';\n",
              "          dataTable['output_type'] = 'display_data';\n",
              "          await google.colab.output.renderOutput(dataTable, element);\n",
              "          const docLink = document.createElement('div');\n",
              "          docLink.innerHTML = docLinkHtml;\n",
              "          element.appendChild(docLink);\n",
              "        }\n",
              "      </script>\n",
              "    </div>\n",
              "  </div>\n",
              "  "
            ]
          },
          "metadata": {},
          "execution_count": 39
        }
      ],
      "source": [
        "train_processed_df, test_processed_df = data_preprocessor(train_df, test_df)\n",
        "test_processed_df.head()"
      ],
      "id": "66a9c354-2557-4c5f-a6c8-ebe29e4c8457"
    },
    {
      "cell_type": "code",
      "execution_count": 40,
      "metadata": {
        "id": "d1b39eab-0530-4895-b237-265cf85603e0",
        "colab": {
          "base_uri": "https://localhost:8080/",
          "height": 0
        },
        "outputId": "69812f50-c7f1-4e1a-80d8-a923c5379c21"
      },
      "outputs": [
        {
          "output_type": "stream",
          "name": "stderr",
          "text": [
            "/usr/local/lib/python3.8/dist-packages/torch/nn/modules/lazy.py:180: UserWarning: Lazy modules are a new feature under heavy development so changes to the API or functionality can happen at any moment.\n",
            "  warnings.warn('Lazy modules are a new feature under heavy development '\n"
          ]
        }
      ],
      "source": [
        "lectureModel = nn.Sequential(\n",
        "    nn.LazyLinear(256),\n",
        "    nn.ReLU(),\n",
        "    nn.LazyLinear(10),\n",
        ")\n",
        "\n",
        "\n",
        "class sale_predictor(nn.Module):\n",
        "    def __init__(self):\n",
        "        super(sale_predictor, self).__init__()\n",
        "        \n",
        "        # From output data \n",
        "        self.mean = 180921.19589041095\n",
        "        self.std = 79442.50288288662\n",
        "        self.unNormalize = False    \n",
        "        self.Dropout = False\n",
        "        self.D1 = nn.Dropout(0.3)\n",
        "        \n",
        "        self.layer1 = nn.LazyLinear(256)\n",
        "        self.relu1 = nn.ReLU()\n",
        "        self.layer2 = nn.LazyLinear(256)\n",
        "        self.relu2 = nn.ReLU()\n",
        "        self.layer3 = nn.LazyLinear(128)\n",
        "        self.relu3 = nn.ReLU()\n",
        "        self.layer4 = nn.LazyLinear(1)\n",
        "    \n",
        "    def forward(self, x):\n",
        "        x = self.layer1(x)\n",
        "        x = self.relu1(x)\n",
        "        x = self.layer2(x)  \n",
        "        x = self.relu2(x)\n",
        "        if self.Dropout:\n",
        "            x = self.D1(x)\n",
        "        x = self.layer3(x)\n",
        "        x = self.relu3(x)\n",
        "        x = self.layer4(x)\n",
        "        \n",
        "        if self.unNormalize:\n",
        "            x = x * self.std + self.mean\n",
        "        \n",
        "        return x\n",
        "\n",
        "sale_predictor = sale_predictor()"
      ],
      "id": "d1b39eab-0530-4895-b237-265cf85603e0"
    },
    {
      "cell_type": "code",
      "execution_count": 41,
      "metadata": {
        "id": "d088a549-e912-409a-a143-580f9ac6aaf1"
      },
      "outputs": [],
      "source": [
        "class housing_dataset(torch.utils.data.Dataset):\n",
        "    def __init__(self, df):\n",
        "        self.df = df\n",
        "\n",
        "    def __len__(self):\n",
        "        return len(self.df)\n",
        "\n",
        "    def __getitem__(self, idx):\n",
        "        row = self.df.iloc[idx]\n",
        "        \n",
        "        dimensions = torch.Tensor(row.values)\n",
        "        label = dimensions[-1]\n",
        "        \n",
        "        return (dimensions[:-1], label)"
      ],
      "id": "d088a549-e912-409a-a143-580f9ac6aaf1"
    },
    {
      "cell_type": "code",
      "execution_count": 43,
      "metadata": {
        "id": "1dec8d28-6851-436d-8236-d635bc59c6f0"
      },
      "outputs": [],
      "source": [
        "train_housing = housing_dataset(train_processed_df)\n",
        "\n",
        "validNum = int(len(train_housing) * 0.8)\n",
        "train_housing, valid_housing = random_split(train_housing, [validNum, len(train_housing) - validNum])\n",
        "\n",
        "trainLoaderHousing = DataLoader(train_housing, batch_size=128, shuffle=True, num_workers=0)\n",
        "validateLoaderHousing = DataLoader(valid_housing, batch_size=128, shuffle=True, num_workers=0)"
      ],
      "id": "1dec8d28-6851-436d-8236-d635bc59c6f0"
    },
    {
      "cell_type": "markdown",
      "metadata": {
        "id": "f373daa8-c962-48f0-b2a3-a30069c8d97c"
      },
      "source": [
        "### 2.b Improve the score by improving the model complexity"
      ],
      "id": "f373daa8-c962-48f0-b2a3-a30069c8d97c"
    },
    {
      "cell_type": "code",
      "execution_count": 44,
      "metadata": {
        "id": "3b80f847-4bca-43ff-a87e-d1a7ccbbf83d",
        "scrolled": true,
        "colab": {
          "base_uri": "https://localhost:8080/",
          "height": 1496
        },
        "outputId": "5bbdbbca-2df7-4b90-b3a4-16218dfa4e26"
      },
      "outputs": [
        {
          "output_type": "stream",
          "name": "stderr",
          "text": [
            "/usr/local/lib/python3.8/dist-packages/torch/nn/modules/loss.py:536: UserWarning: Using a target size (torch.Size([128, 1])) that is different to the input size (torch.Size([128, 10])). This will likely lead to incorrect results due to broadcasting. Please ensure they have the same size.\n",
            "  return F.mse_loss(input, target, reduction=self.reduction)\n",
            "/usr/local/lib/python3.8/dist-packages/torch/nn/modules/loss.py:536: UserWarning: Using a target size (torch.Size([36, 1])) that is different to the input size (torch.Size([36, 10])). This will likely lead to incorrect results due to broadcasting. Please ensure they have the same size.\n",
            "  return F.mse_loss(input, target, reduction=self.reduction)\n",
            " 80%|████████  | 8/10 [00:00<00:00, 15.32it/s]/usr/local/lib/python3.8/dist-packages/torch/nn/modules/loss.py:536: UserWarning: Using a target size (torch.Size([16, 1])) that is different to the input size (torch.Size([16, 10])). This will likely lead to incorrect results due to broadcasting. Please ensure they have the same size.\n",
            "  return F.mse_loss(input, target, reduction=self.reduction)\n",
            "100%|██████████| 10/10 [00:00<00:00, 16.22it/s]\n"
          ]
        },
        {
          "output_type": "stream",
          "name": "stdout",
          "text": [
            "Current Epoch: 1\n",
            "Training_Loss: 0.9198947429656983  | Validation_Loss: 1.071117063363393\n"
          ]
        },
        {
          "output_type": "stream",
          "name": "stderr",
          "text": [
            "100%|██████████| 10/10 [00:01<00:00,  9.88it/s]\n"
          ]
        },
        {
          "output_type": "stream",
          "name": "stdout",
          "text": [
            "Current Epoch: 2\n",
            "Training_Loss: 0.6371375858783722  | Validation_Loss: 1.0388497908910115\n"
          ]
        },
        {
          "output_type": "stream",
          "name": "stderr",
          "text": [
            "100%|██████████| 10/10 [00:01<00:00,  9.56it/s]\n"
          ]
        },
        {
          "output_type": "stream",
          "name": "stdout",
          "text": [
            "Current Epoch: 3\n",
            "Training_Loss: 0.2671642392873764  | Validation_Loss: 0.5765660554170609\n"
          ]
        },
        {
          "output_type": "stream",
          "name": "stderr",
          "text": [
            "100%|██████████| 10/10 [00:00<00:00, 10.97it/s]\n"
          ]
        },
        {
          "output_type": "stream",
          "name": "stdout",
          "text": [
            "Current Epoch: 4\n",
            "Training_Loss: 0.23329071700572968  | Validation_Loss: 0.19700143237908682\n"
          ]
        },
        {
          "output_type": "stream",
          "name": "stderr",
          "text": [
            "100%|██████████| 10/10 [00:00<00:00, 16.65it/s]\n"
          ]
        },
        {
          "output_type": "stream",
          "name": "stdout",
          "text": [
            "Current Epoch: 5\n",
            "Training_Loss: 0.18514424413442612  | Validation_Loss: 0.2925560896595319\n"
          ]
        },
        {
          "output_type": "stream",
          "name": "stderr",
          "text": [
            "100%|██████████| 10/10 [00:00<00:00, 17.22it/s]\n"
          ]
        },
        {
          "output_type": "stream",
          "name": "stdout",
          "text": [
            "Current Epoch: 6\n",
            "Training_Loss: 0.2019464962184429  | Validation_Loss: 0.15113641818364462\n"
          ]
        },
        {
          "output_type": "stream",
          "name": "stderr",
          "text": [
            "100%|██████████| 10/10 [00:00<00:00, 17.19it/s]\n"
          ]
        },
        {
          "output_type": "stream",
          "name": "stdout",
          "text": [
            "Current Epoch: 7\n",
            "Training_Loss: 0.1513876162469387  | Validation_Loss: 0.1578351060549418\n"
          ]
        },
        {
          "output_type": "stream",
          "name": "stderr",
          "text": [
            "100%|██████████| 10/10 [00:00<00:00, 17.31it/s]\n"
          ]
        },
        {
          "output_type": "stream",
          "name": "stdout",
          "text": [
            "Current Epoch: 8\n",
            "Training_Loss: 0.15574345961213112  | Validation_Loss: 0.2875954732298851\n"
          ]
        },
        {
          "output_type": "stream",
          "name": "stderr",
          "text": [
            "100%|██████████| 10/10 [00:00<00:00, 16.65it/s]\n"
          ]
        },
        {
          "output_type": "stream",
          "name": "stdout",
          "text": [
            "Current Epoch: 9\n",
            "Training_Loss: 0.2451399512588978  | Validation_Loss: 0.16933531314134598\n"
          ]
        },
        {
          "output_type": "stream",
          "name": "stderr",
          "text": [
            "100%|██████████| 10/10 [00:00<00:00, 17.51it/s]\n"
          ]
        },
        {
          "output_type": "stream",
          "name": "stdout",
          "text": [
            "Current Epoch: 10\n",
            "Training_Loss: 0.14700731113553048  | Validation_Loss: 0.16829424848159155\n"
          ]
        },
        {
          "output_type": "stream",
          "name": "stderr",
          "text": [
            "100%|██████████| 10/10 [00:00<00:00, 17.88it/s]\n"
          ]
        },
        {
          "output_type": "stream",
          "name": "stdout",
          "text": [
            "Current Epoch: 11\n",
            "Training_Loss: 0.15243006646633148  | Validation_Loss: 0.19563174496094385\n"
          ]
        },
        {
          "output_type": "stream",
          "name": "stderr",
          "text": [
            "100%|██████████| 10/10 [00:00<00:00, 16.80it/s]\n"
          ]
        },
        {
          "output_type": "stream",
          "name": "stdout",
          "text": [
            "Current Epoch: 12\n",
            "Training_Loss: 0.15529733821749686  | Validation_Loss: 0.1669458051522573\n"
          ]
        },
        {
          "output_type": "stream",
          "name": "stderr",
          "text": [
            "100%|██████████| 10/10 [00:00<00:00, 16.82it/s]\n"
          ]
        },
        {
          "output_type": "stream",
          "name": "stdout",
          "text": [
            "Current Epoch: 13\n",
            "Training_Loss: 0.1765695370733738  | Validation_Loss: 0.16368776063124338\n"
          ]
        },
        {
          "output_type": "stream",
          "name": "stderr",
          "text": [
            "100%|██████████| 10/10 [00:00<00:00, 16.95it/s]\n"
          ]
        },
        {
          "output_type": "stream",
          "name": "stdout",
          "text": [
            "Current Epoch: 14\n",
            "Training_Loss: 0.12116245087236166  | Validation_Loss: 0.3449222519993782\n"
          ]
        },
        {
          "output_type": "stream",
          "name": "stderr",
          "text": [
            "100%|██████████| 10/10 [00:00<00:00, 16.74it/s]\n"
          ]
        },
        {
          "output_type": "stream",
          "name": "stdout",
          "text": [
            "Current Epoch: 15\n",
            "Training_Loss: 0.11302256602793932  | Validation_Loss: 0.1713611682256063\n"
          ]
        },
        {
          "output_type": "stream",
          "name": "stderr",
          "text": [
            "100%|██████████| 10/10 [00:00<00:00, 17.04it/s]\n"
          ]
        },
        {
          "output_type": "stream",
          "name": "stdout",
          "text": [
            "Current Epoch: 16\n",
            "Training_Loss: 0.13218890726566315  | Validation_Loss: 0.33310683568318683\n"
          ]
        },
        {
          "output_type": "stream",
          "name": "stderr",
          "text": [
            "100%|██████████| 10/10 [00:00<00:00, 16.72it/s]\n"
          ]
        },
        {
          "output_type": "stream",
          "name": "stdout",
          "text": [
            "Current Epoch: 17\n",
            "Training_Loss: 0.10431664362549782  | Validation_Loss: 0.1490122377872467\n"
          ]
        },
        {
          "output_type": "stream",
          "name": "stderr",
          "text": [
            "100%|██████████| 10/10 [00:00<00:00, 10.89it/s]\n"
          ]
        },
        {
          "output_type": "stream",
          "name": "stdout",
          "text": [
            "Current Epoch: 18\n",
            "Training_Loss: 0.10194049403071404  | Validation_Loss: 0.17685812711715698\n"
          ]
        },
        {
          "output_type": "stream",
          "name": "stderr",
          "text": [
            "100%|██████████| 10/10 [00:00<00:00, 10.28it/s]\n"
          ]
        },
        {
          "output_type": "stream",
          "name": "stdout",
          "text": [
            "Current Epoch: 19\n",
            "Training_Loss: 0.09943705722689629  | Validation_Loss: 0.1744967537621657\n"
          ]
        },
        {
          "output_type": "stream",
          "name": "stderr",
          "text": [
            "100%|██████████| 10/10 [00:01<00:00,  9.87it/s]\n"
          ]
        },
        {
          "output_type": "stream",
          "name": "stdout",
          "text": [
            "Current Epoch: 20\n",
            "Training_Loss: 0.09355470407754182  | Validation_Loss: 0.1528907207151254\n",
            "Time Taken to Train: 0:00:17.719959\n"
          ]
        },
        {
          "output_type": "execute_result",
          "data": {
            "text/plain": [
              "<matplotlib.legend.Legend at 0x7f1b2639d100>"
            ]
          },
          "metadata": {},
          "execution_count": 44
        },
        {
          "output_type": "display_data",
          "data": {
            "text/plain": [
              "<Figure size 432x288 with 1 Axes>"
            ],
            "image/png": "[encoded data removed]"
          },
          "metadata": {
            "needs_background": "light"
          }
        }
      ],
      "source": [
        "\n",
        "LectureModel = copy.deepcopy(lectureModel)\n",
        "LectureHousingTrainer = Train_Model(LectureModel, nn.MSELoss(), torch.optim.SGD(LectureModel.parameters(), lr=0.01, momentum=0.9), nn.MSELoss(), \"Regression\",  device_to_use)\n",
        "\n",
        "start_time = datetime.now()\n",
        "\n",
        "LectureHousingTrainer.fit(trainLoaderHousing, validateLoaderHousing, 20)\n",
        "end_time = datetime.now()\n",
        "\n",
        "print(\"Time Taken to Train:\", end_time - start_time)\n",
        "### PLOTTING METRICS\n",
        "plt.plot(LectureHousingTrainer.Metrics['Training_Loss'], label='Training Loss')\n",
        "plt.plot(LectureHousingTrainer.Metrics['Validation_Loss'], label='Validation Loss')\n",
        "plt.xlabel('Epoch')\n",
        "plt.ylabel('Metric')\n",
        "plt.legend()"
      ],
      "id": "3b80f847-4bca-43ff-a87e-d1a7ccbbf83d"
    },
    {
      "cell_type": "code",
      "execution_count": 45,
      "metadata": {
        "id": "6c907708-d7c5-4357-ad2a-56f1268a667c",
        "scrolled": true,
        "colab": {
          "base_uri": "https://localhost:8080/",
          "height": 1386
        },
        "outputId": "d8026415-106a-45f8-a902-820fa6a9ab27"
      },
      "outputs": [
        {
          "output_type": "stream",
          "name": "stderr",
          "text": [
            "100%|██████████| 10/10 [00:00<00:00, 14.51it/s]\n"
          ]
        },
        {
          "output_type": "stream",
          "name": "stdout",
          "text": [
            "Current Epoch: 1\n",
            "Training_Loss: 0.9514143347740174  | Validation_Loss: 0.9275064667065939\n"
          ]
        },
        {
          "output_type": "stream",
          "name": "stderr",
          "text": [
            "100%|██████████| 10/10 [00:00<00:00, 15.60it/s]\n"
          ]
        },
        {
          "output_type": "stream",
          "name": "stdout",
          "text": [
            "Current Epoch: 2\n",
            "Training_Loss: 0.8124876350164414  | Validation_Loss: 1.2978623112042744\n"
          ]
        },
        {
          "output_type": "stream",
          "name": "stderr",
          "text": [
            "100%|██████████| 10/10 [00:00<00:00, 16.22it/s]\n"
          ]
        },
        {
          "output_type": "stream",
          "name": "stdout",
          "text": [
            "Current Epoch: 3\n",
            "Training_Loss: 0.4353019595146179  | Validation_Loss: 0.6165536244710287\n"
          ]
        },
        {
          "output_type": "stream",
          "name": "stderr",
          "text": [
            "100%|██████████| 10/10 [00:00<00:00, 15.99it/s]\n"
          ]
        },
        {
          "output_type": "stream",
          "name": "stdout",
          "text": [
            "Current Epoch: 4\n",
            "Training_Loss: 0.24809769317507743  | Validation_Loss: 0.24658953646818796\n"
          ]
        },
        {
          "output_type": "stream",
          "name": "stderr",
          "text": [
            "100%|██████████| 10/10 [00:00<00:00, 15.83it/s]\n"
          ]
        },
        {
          "output_type": "stream",
          "name": "stdout",
          "text": [
            "Current Epoch: 5\n",
            "Training_Loss: 0.20031529515981675  | Validation_Loss: 0.16455749670664468\n"
          ]
        },
        {
          "output_type": "stream",
          "name": "stderr",
          "text": [
            "100%|██████████| 10/10 [00:00<00:00, 15.92it/s]\n"
          ]
        },
        {
          "output_type": "stream",
          "name": "stdout",
          "text": [
            "Current Epoch: 6\n",
            "Training_Loss: 0.16331703141331672  | Validation_Loss: 0.1674443483352661\n"
          ]
        },
        {
          "output_type": "stream",
          "name": "stderr",
          "text": [
            "100%|██████████| 10/10 [00:00<00:00, 17.20it/s]\n"
          ]
        },
        {
          "output_type": "stream",
          "name": "stdout",
          "text": [
            "Current Epoch: 7\n",
            "Training_Loss: 0.124736069701612  | Validation_Loss: 0.15187754730383554\n"
          ]
        },
        {
          "output_type": "stream",
          "name": "stderr",
          "text": [
            "100%|██████████| 10/10 [00:00<00:00, 15.89it/s]\n"
          ]
        },
        {
          "output_type": "stream",
          "name": "stdout",
          "text": [
            "Current Epoch: 8\n",
            "Training_Loss: 0.12147986181080342  | Validation_Loss: 0.16573123882214227\n"
          ]
        },
        {
          "output_type": "stream",
          "name": "stderr",
          "text": [
            "100%|██████████| 10/10 [00:00<00:00, 16.62it/s]\n"
          ]
        },
        {
          "output_type": "stream",
          "name": "stdout",
          "text": [
            "Current Epoch: 9\n",
            "Training_Loss: 0.10719092823565006  | Validation_Loss: 0.3732186978061994\n"
          ]
        },
        {
          "output_type": "stream",
          "name": "stderr",
          "text": [
            "100%|██████████| 10/10 [00:00<00:00, 17.33it/s]\n"
          ]
        },
        {
          "output_type": "stream",
          "name": "stdout",
          "text": [
            "Current Epoch: 10\n",
            "Training_Loss: 0.0982021726667881  | Validation_Loss: 0.3965868254502614\n"
          ]
        },
        {
          "output_type": "stream",
          "name": "stderr",
          "text": [
            "100%|██████████| 10/10 [00:00<00:00, 17.30it/s]\n"
          ]
        },
        {
          "output_type": "stream",
          "name": "stdout",
          "text": [
            "Current Epoch: 11\n",
            "Training_Loss: 0.09641841165721417  | Validation_Loss: 0.18781508008639017\n"
          ]
        },
        {
          "output_type": "stream",
          "name": "stderr",
          "text": [
            "100%|██████████| 10/10 [00:00<00:00, 16.78it/s]\n"
          ]
        },
        {
          "output_type": "stream",
          "name": "stdout",
          "text": [
            "Current Epoch: 12\n",
            "Training_Loss: 0.08817586861550808  | Validation_Loss: 0.16594144701957703\n"
          ]
        },
        {
          "output_type": "stream",
          "name": "stderr",
          "text": [
            "100%|██████████| 10/10 [00:00<00:00, 11.96it/s]\n"
          ]
        },
        {
          "output_type": "stream",
          "name": "stdout",
          "text": [
            "Current Epoch: 13\n",
            "Training_Loss: 0.07840017601847649  | Validation_Loss: 0.4167405962944031\n"
          ]
        },
        {
          "output_type": "stream",
          "name": "stderr",
          "text": [
            "100%|██████████| 10/10 [00:01<00:00,  9.66it/s]\n"
          ]
        },
        {
          "output_type": "stream",
          "name": "stdout",
          "text": [
            "Current Epoch: 14\n",
            "Training_Loss: 0.07554927729070186  | Validation_Loss: 0.16355781132976213\n"
          ]
        },
        {
          "output_type": "stream",
          "name": "stderr",
          "text": [
            "100%|██████████| 10/10 [00:01<00:00,  9.73it/s]\n"
          ]
        },
        {
          "output_type": "stream",
          "name": "stdout",
          "text": [
            "Current Epoch: 15\n",
            "Training_Loss: 0.06921385452151299  | Validation_Loss: 0.16712178538242975\n"
          ]
        },
        {
          "output_type": "stream",
          "name": "stderr",
          "text": [
            "100%|██████████| 10/10 [00:00<00:00, 16.66it/s]\n"
          ]
        },
        {
          "output_type": "stream",
          "name": "stdout",
          "text": [
            "Current Epoch: 16\n",
            "Training_Loss: 0.06271290164440871  | Validation_Loss: 0.16146436830361685\n"
          ]
        },
        {
          "output_type": "stream",
          "name": "stderr",
          "text": [
            "100%|██████████| 10/10 [00:00<00:00, 16.75it/s]\n"
          ]
        },
        {
          "output_type": "stream",
          "name": "stdout",
          "text": [
            "Current Epoch: 17\n",
            "Training_Loss: 0.06027549467980862  | Validation_Loss: 0.17459880436460176\n"
          ]
        },
        {
          "output_type": "stream",
          "name": "stderr",
          "text": [
            "100%|██████████| 10/10 [00:00<00:00, 15.86it/s]\n"
          ]
        },
        {
          "output_type": "stream",
          "name": "stdout",
          "text": [
            "Current Epoch: 18\n",
            "Training_Loss: 0.059041372314095494  | Validation_Loss: 0.1691846332202355\n"
          ]
        },
        {
          "output_type": "stream",
          "name": "stderr",
          "text": [
            "100%|██████████| 10/10 [00:00<00:00, 16.19it/s]\n"
          ]
        },
        {
          "output_type": "stream",
          "name": "stdout",
          "text": [
            "Current Epoch: 19\n",
            "Training_Loss: 0.056856471300125125  | Validation_Loss: 0.1722014807164669\n"
          ]
        },
        {
          "output_type": "stream",
          "name": "stderr",
          "text": [
            "100%|██████████| 10/10 [00:00<00:00, 16.81it/s]"
          ]
        },
        {
          "output_type": "stream",
          "name": "stdout",
          "text": [
            "Current Epoch: 20\n",
            "Training_Loss: 0.0514498608186841  | Validation_Loss: 0.1628448280195395\n",
            "Time Taken to Train: 0:00:16.757407\n"
          ]
        },
        {
          "output_type": "stream",
          "name": "stderr",
          "text": [
            "\n"
          ]
        },
        {
          "output_type": "execute_result",
          "data": {
            "text/plain": [
              "<matplotlib.legend.Legend at 0x7f1b25b25e80>"
            ]
          },
          "metadata": {},
          "execution_count": 45
        },
        {
          "output_type": "display_data",
          "data": {
            "text/plain": [
              "<Figure size 432x288 with 1 Axes>"
            ],
            "image/png": "[encoded data removed]"
          },
          "metadata": {
            "needs_background": "light"
          }
        }
      ],
      "source": [
        "base_housingModel = copy.deepcopy(sale_predictor)\n",
        "ComplexHousingTrainer = Train_Model(base_housingModel, nn.MSELoss(), torch.optim.SGD(base_housingModel.parameters(), lr=0.01, momentum=0.9), nn.MSELoss(), \"Regression\",  device_to_use)\n",
        "\n",
        "start_time = datetime.now()\n",
        "\n",
        "ComplexHousingTrainer.fit(trainLoaderHousing, validateLoaderHousing, 20)\n",
        "end_time = datetime.now()\n",
        "\n",
        "print(\"Time Taken to Train:\", end_time - start_time)\n",
        "### PLOTTING METRICS\n",
        "plt.plot(ComplexHousingTrainer.Metrics['Training_Loss'], label='Training Loss')\n",
        "plt.plot(ComplexHousingTrainer.Metrics['Validation_Loss'], label='Validation Loss')\n",
        "plt.xlabel('Epoch')\n",
        "plt.ylabel('Metric')\n",
        "plt.legend()"
      ],
      "id": "6c907708-d7c5-4357-ad2a-56f1268a667c"
    },
    {
      "cell_type": "markdown",
      "metadata": {
        "id": "b21dc4f8-b4ed-4e8b-b79d-0c2ed7ed1d09"
      },
      "source": [
        "### How about the model complexity comparison and training time?\n",
        "The new model shows better accuracy compared to the model built during the class lectures."
      ],
      "id": "b21dc4f8-b4ed-4e8b-b79d-0c2ed7ed1d09"
    },
    {
      "cell_type": "markdown",
      "metadata": {
        "id": "25dfb692-15ed-4134-b4b4-d77d24189cc9"
      },
      "source": [
        "### 2.c How about exploring options for weight decay and dropout over the more complex model?"
      ],
      "id": "25dfb692-15ed-4134-b4b4-d77d24189cc9"
    },
    {
      "cell_type": "code",
      "execution_count": 46,
      "metadata": {
        "id": "65494c0a-5234-44af-a688-f508ceea857b",
        "scrolled": true,
        "colab": {
          "base_uri": "https://localhost:8080/",
          "height": 1386
        },
        "outputId": "da315e94-85f3-4d9c-f157-fd9ab2c89f13"
      },
      "outputs": [
        {
          "output_type": "stream",
          "name": "stderr",
          "text": [
            "100%|██████████| 10/10 [00:00<00:00, 15.05it/s]\n"
          ]
        },
        {
          "output_type": "stream",
          "name": "stdout",
          "text": [
            "Current Epoch: 1\n",
            "Training_Loss: 0.9691969871520996  | Validation_Loss: 0.9991535941759745\n"
          ]
        },
        {
          "output_type": "stream",
          "name": "stderr",
          "text": [
            "100%|██████████| 10/10 [00:00<00:00, 15.84it/s]\n"
          ]
        },
        {
          "output_type": "stream",
          "name": "stdout",
          "text": [
            "Current Epoch: 2\n",
            "Training_Loss: 0.8679753422737122  | Validation_Loss: 0.9552673697471619\n"
          ]
        },
        {
          "output_type": "stream",
          "name": "stderr",
          "text": [
            "100%|██████████| 10/10 [00:00<00:00, 16.45it/s]\n"
          ]
        },
        {
          "output_type": "stream",
          "name": "stdout",
          "text": [
            "Current Epoch: 3\n",
            "Training_Loss: 0.48570985049009324  | Validation_Loss: 0.609295388062795\n"
          ]
        },
        {
          "output_type": "stream",
          "name": "stderr",
          "text": [
            "100%|██████████| 10/10 [00:00<00:00, 16.29it/s]\n"
          ]
        },
        {
          "output_type": "stream",
          "name": "stdout",
          "text": [
            "Current Epoch: 4\n",
            "Training_Loss: 0.26208523809909823  | Validation_Loss: 0.17429418365160623\n"
          ]
        },
        {
          "output_type": "stream",
          "name": "stderr",
          "text": [
            "100%|██████████| 10/10 [00:00<00:00, 16.17it/s]\n"
          ]
        },
        {
          "output_type": "stream",
          "name": "stdout",
          "text": [
            "Current Epoch: 5\n",
            "Training_Loss: 0.2039308100938797  | Validation_Loss: 0.16149225334326425\n"
          ]
        },
        {
          "output_type": "stream",
          "name": "stderr",
          "text": [
            "100%|██████████| 10/10 [00:00<00:00, 16.67it/s]\n"
          ]
        },
        {
          "output_type": "stream",
          "name": "stdout",
          "text": [
            "Current Epoch: 6\n",
            "Training_Loss: 0.1709236152470112  | Validation_Loss: 0.18622806668281555\n"
          ]
        },
        {
          "output_type": "stream",
          "name": "stderr",
          "text": [
            "100%|██████████| 10/10 [00:00<00:00, 16.46it/s]\n"
          ]
        },
        {
          "output_type": "stream",
          "name": "stdout",
          "text": [
            "Current Epoch: 7\n",
            "Training_Loss: 0.1634316064417362  | Validation_Loss: 0.14672658095757166\n"
          ]
        },
        {
          "output_type": "stream",
          "name": "stderr",
          "text": [
            "100%|██████████| 10/10 [00:00<00:00, 12.82it/s]\n"
          ]
        },
        {
          "output_type": "stream",
          "name": "stdout",
          "text": [
            "Current Epoch: 8\n",
            "Training_Loss: 0.15484301820397378  | Validation_Loss: 0.14415173480908075\n"
          ]
        },
        {
          "output_type": "stream",
          "name": "stderr",
          "text": [
            "100%|██████████| 10/10 [00:01<00:00,  9.56it/s]\n"
          ]
        },
        {
          "output_type": "stream",
          "name": "stdout",
          "text": [
            "Current Epoch: 9\n",
            "Training_Loss: 0.15774493142962456  | Validation_Loss: 0.16928462187449136\n"
          ]
        },
        {
          "output_type": "stream",
          "name": "stderr",
          "text": [
            "100%|██████████| 10/10 [00:01<00:00,  9.68it/s]\n"
          ]
        },
        {
          "output_type": "stream",
          "name": "stdout",
          "text": [
            "Current Epoch: 10\n",
            "Training_Loss: 0.1205511212348938  | Validation_Loss: 0.1646832376718521\n"
          ]
        },
        {
          "output_type": "stream",
          "name": "stderr",
          "text": [
            "100%|██████████| 10/10 [00:00<00:00, 13.46it/s]\n"
          ]
        },
        {
          "output_type": "stream",
          "name": "stdout",
          "text": [
            "Current Epoch: 11\n",
            "Training_Loss: 0.12446224763989448  | Validation_Loss: 0.35016660888989765\n"
          ]
        },
        {
          "output_type": "stream",
          "name": "stderr",
          "text": [
            "100%|██████████| 10/10 [00:00<00:00, 17.01it/s]\n"
          ]
        },
        {
          "output_type": "stream",
          "name": "stdout",
          "text": [
            "Current Epoch: 12\n",
            "Training_Loss: 0.1654038317501545  | Validation_Loss: 0.1898132860660553\n"
          ]
        },
        {
          "output_type": "stream",
          "name": "stderr",
          "text": [
            "100%|██████████| 10/10 [00:00<00:00, 16.84it/s]\n"
          ]
        },
        {
          "output_type": "stream",
          "name": "stdout",
          "text": [
            "Current Epoch: 13\n",
            "Training_Loss: 0.1289200283586979  | Validation_Loss: 0.1678774654865265\n"
          ]
        },
        {
          "output_type": "stream",
          "name": "stderr",
          "text": [
            "100%|██████████| 10/10 [00:00<00:00, 16.89it/s]\n"
          ]
        },
        {
          "output_type": "stream",
          "name": "stdout",
          "text": [
            "Current Epoch: 14\n",
            "Training_Loss: 0.10277911499142647  | Validation_Loss: 0.1866726204752922\n"
          ]
        },
        {
          "output_type": "stream",
          "name": "stderr",
          "text": [
            "100%|██████████| 10/10 [00:00<00:00, 16.96it/s]\n"
          ]
        },
        {
          "output_type": "stream",
          "name": "stdout",
          "text": [
            "Current Epoch: 15\n",
            "Training_Loss: 0.09323706179857254  | Validation_Loss: 0.17103929072618484\n"
          ]
        },
        {
          "output_type": "stream",
          "name": "stderr",
          "text": [
            "100%|██████████| 10/10 [00:00<00:00, 16.24it/s]\n"
          ]
        },
        {
          "output_type": "stream",
          "name": "stdout",
          "text": [
            "Current Epoch: 16\n",
            "Training_Loss: 0.09333149418234825  | Validation_Loss: 0.16325588275988898\n"
          ]
        },
        {
          "output_type": "stream",
          "name": "stderr",
          "text": [
            "100%|██████████| 10/10 [00:00<00:00, 17.21it/s]\n"
          ]
        },
        {
          "output_type": "stream",
          "name": "stdout",
          "text": [
            "Current Epoch: 17\n",
            "Training_Loss: 0.09191130138933659  | Validation_Loss: 0.16675173615415892\n"
          ]
        },
        {
          "output_type": "stream",
          "name": "stderr",
          "text": [
            "100%|██████████| 10/10 [00:00<00:00, 16.23it/s]\n"
          ]
        },
        {
          "output_type": "stream",
          "name": "stdout",
          "text": [
            "Current Epoch: 18\n",
            "Training_Loss: 0.08790843822062015  | Validation_Loss: 0.1615052248040835\n"
          ]
        },
        {
          "output_type": "stream",
          "name": "stderr",
          "text": [
            "100%|██████████| 10/10 [00:00<00:00, 17.06it/s]\n"
          ]
        },
        {
          "output_type": "stream",
          "name": "stdout",
          "text": [
            "Current Epoch: 19\n",
            "Training_Loss: 0.08366970308125019  | Validation_Loss: 0.15990135570367178\n"
          ]
        },
        {
          "output_type": "stream",
          "name": "stderr",
          "text": [
            "100%|██████████| 10/10 [00:00<00:00, 17.28it/s]\n"
          ]
        },
        {
          "output_type": "stream",
          "name": "stdout",
          "text": [
            "Current Epoch: 20\n",
            "Training_Loss: 0.08029063791036606  | Validation_Loss: 0.15844229981303215\n",
            "Time Taken to Train: 0:00:16.727856\n"
          ]
        },
        {
          "output_type": "execute_result",
          "data": {
            "text/plain": [
              "<matplotlib.legend.Legend at 0x7f1b25ad52b0>"
            ]
          },
          "metadata": {},
          "execution_count": 46
        },
        {
          "output_type": "display_data",
          "data": {
            "text/plain": [
              "<Figure size 432x288 with 1 Axes>"
            ],
            "image/png": "[encoded data removed]"
          },
          "metadata": {
            "needs_background": "light"
          }
        }
      ],
      "source": [
        "drop_decay_housingModel = copy.deepcopy(sale_predictor)\n",
        "drop_decay_housingModel.Dropout = True\n",
        "\n",
        "DropHousingTrainer = Train_Model(drop_decay_housingModel, nn.MSELoss(), torch.optim.SGD(drop_decay_housingModel.parameters(), lr=0.01, momentum=0.9, weight_decay=0.0001), nn.MSELoss(), \"Regression\",  device_to_use)\n",
        "\n",
        "start_time = datetime.now()\n",
        "\n",
        "DropHousingTrainer.fit(trainLoaderHousing, validateLoaderHousing, 20)\n",
        "end_time = datetime.now()\n",
        "\n",
        "print(\"Time Taken to Train:\", end_time - start_time)\n",
        "### PLOTTING METRICS\n",
        "plt.plot(DropHousingTrainer.Metrics['Training_Loss'], label='Training Loss')\n",
        "plt.plot(DropHousingTrainer.Metrics['Validation_Loss'], label='Validation Loss')\n",
        "plt.xlabel('Epoch')\n",
        "plt.ylabel('Metric')\n",
        "plt.legend()"
      ],
      "id": "65494c0a-5234-44af-a688-f508ceea857b"
    },
    {
      "cell_type": "markdown",
      "metadata": {
        "id": "4b912a42-3a35-4d4b-a57f-49198d4848e6"
      },
      "source": [
        "### Please plot the results and compare them against 2.b\n",
        "The loss patterns looks similar in both 2.b and 2.c"
      ],
      "id": "4b912a42-3a35-4d4b-a57f-49198d4848e6"
    },
    {
      "cell_type": "code",
      "execution_count": 47,
      "metadata": {
        "id": "b4f23936-e17a-41d4-873f-95f119fc994f"
      },
      "outputs": [],
      "source": [
        "DropHousingTrainer.model.Dropout = False\n",
        "DropHousingTrainer.model.unNormalize = True\n",
        "torch.save(DropHousingTrainer.model.state_dict(), 'DropHousing.pt')"
      ],
      "id": "b4f23936-e17a-41d4-873f-95f119fc994f"
    },
    {
      "cell_type": "code",
      "execution_count": 48,
      "metadata": {
        "id": "5a8a95fd-b11d-47f7-8121-218f24c15cb5",
        "colab": {
          "base_uri": "https://localhost:8080/",
          "height": 459
        },
        "outputId": "b48edc97-ddf8-4dcd-fa22-790566e6a3ed"
      },
      "outputs": [
        {
          "output_type": "stream",
          "name": "stdout",
          "text": [
            "torch.Size([1459, 331])\n",
            "torch.Size([1459]) (1459,)\n"
          ]
        },
        {
          "output_type": "display_data",
          "data": {
            "text/plain": [
              "        Id      SalePrice\n",
              "0     1461  122199.656250\n",
              "1     1462  151246.718750\n",
              "2     1463  173351.703125\n",
              "3     1464  187844.281250\n",
              "4     1465  191011.734375\n",
              "...    ...            ...\n",
              "1454  2915   94264.726562\n",
              "1455  2916   97609.359375\n",
              "1456  2917  167482.484375\n",
              "1457  2918  118991.140625\n",
              "1458  2919  229460.171875\n",
              "\n",
              "[1459 rows x 2 columns]"
            ],
            "text/html": [
              "\n",
              "  <div id=\"df-e8140513-8252-4a5a-b6c5-c84b0dc2a122\">\n",
              "    <div class=\"colab-df-container\">\n",
              "      <div>\n",
              "<style scoped>\n",
              "    .dataframe tbody tr th:only-of-type {\n",
              "        vertical-align: middle;\n",
              "    }\n",
              "\n",
              "    .dataframe tbody tr th {\n",
              "        vertical-align: top;\n",
              "    }\n",
              "\n",
              "    .dataframe thead th {\n",
              "        text-align: right;\n",
              "    }\n",
              "</style>\n",
              "<table border=\"1\" class=\"dataframe\">\n",
              "  <thead>\n",
              "    <tr style=\"text-align: right;\">\n",
              "      <th></th>\n",
              "      <th>Id</th>\n",
              "      <th>SalePrice</th>\n",
              "    </tr>\n",
              "  </thead>\n",
              "  <tbody>\n",
              "    <tr>\n",
              "      <th>0</th>\n",
              "      <td>1461</td>\n",
              "      <td>122199.656250</td>\n",
              "    </tr>\n",
              "    <tr>\n",
              "      <th>1</th>\n",
              "      <td>1462</td>\n",
              "      <td>151246.718750</td>\n",
              "    </tr>\n",
              "    <tr>\n",
              "      <th>2</th>\n",
              "      <td>1463</td>\n",
              "      <td>173351.703125</td>\n",
              "    </tr>\n",
              "    <tr>\n",
              "      <th>3</th>\n",
              "      <td>1464</td>\n",
              "      <td>187844.281250</td>\n",
              "    </tr>\n",
              "    <tr>\n",
              "      <th>4</th>\n",
              "      <td>1465</td>\n",
              "      <td>191011.734375</td>\n",
              "    </tr>\n",
              "    <tr>\n",
              "      <th>...</th>\n",
              "      <td>...</td>\n",
              "      <td>...</td>\n",
              "    </tr>\n",
              "    <tr>\n",
              "      <th>1454</th>\n",
              "      <td>2915</td>\n",
              "      <td>94264.726562</td>\n",
              "    </tr>\n",
              "    <tr>\n",
              "      <th>1455</th>\n",
              "      <td>2916</td>\n",
              "      <td>97609.359375</td>\n",
              "    </tr>\n",
              "    <tr>\n",
              "      <th>1456</th>\n",
              "      <td>2917</td>\n",
              "      <td>167482.484375</td>\n",
              "    </tr>\n",
              "    <tr>\n",
              "      <th>1457</th>\n",
              "      <td>2918</td>\n",
              "      <td>118991.140625</td>\n",
              "    </tr>\n",
              "    <tr>\n",
              "      <th>1458</th>\n",
              "      <td>2919</td>\n",
              "      <td>229460.171875</td>\n",
              "    </tr>\n",
              "  </tbody>\n",
              "</table>\n",
              "<p>1459 rows × 2 columns</p>\n",
              "</div>\n",
              "      <button class=\"colab-df-convert\" onclick=\"convertToInteractive('df-e8140513-8252-4a5a-b6c5-c84b0dc2a122')\"\n",
              "              title=\"Convert this dataframe to an interactive table.\"\n",
              "              style=\"display:none;\">\n",
              "        \n",
              "  <svg xmlns=\"http://www.w3.org/2000/svg\" height=\"24px\"viewBox=\"0 0 24 24\"\n",
              "       width=\"24px\">\n",
              "    <path d=\"M0 0h24v24H0V0z\" fill=\"none\"/>\n",
              "    <path d=\"M18.56 5.44l.94 2.06.94-2.06 2.06-.94-2.06-.94-.94-2.06-.94 2.06-2.06.94zm-11 1L8.5 8.5l.94-2.06 2.06-.94-2.06-.94L8.5 2.5l-.94 2.06-2.06.94zm10 10l.94 2.06.94-2.06 2.06-.94-2.06-.94-.94-2.06-.94 2.06-2.06.94z\"/><path d=\"M17.41 7.96l-1.37-1.37c-.4-.4-.92-.59-1.43-.59-.52 0-1.04.2-1.43.59L10.3 9.45l-7.72 7.72c-.78.78-.78 2.05 0 2.83L4 21.41c.39.39.9.59 1.41.59.51 0 1.02-.2 1.41-.59l7.78-7.78 2.81-2.81c.8-.78.8-2.07 0-2.86zM5.41 20L4 18.59l7.72-7.72 1.47 1.35L5.41 20z\"/>\n",
              "  </svg>\n",
              "      </button>\n",
              "      \n",
              "  <style>\n",
              "    .colab-df-container {\n",
              "      display:flex;\n",
              "      flex-wrap:wrap;\n",
              "      gap: 12px;\n",
              "    }\n",
              "\n",
              "    .colab-df-convert {\n",
              "      background-color: #E8F0FE;\n",
              "      border: none;\n",
              "      border-radius: 50%;\n",
              "      cursor: pointer;\n",
              "      display: none;\n",
              "      fill: #1967D2;\n",
              "      height: 32px;\n",
              "      padding: 0 0 0 0;\n",
              "      width: 32px;\n",
              "    }\n",
              "\n",
              "    .colab-df-convert:hover {\n",
              "      background-color: #E2EBFA;\n",
              "      box-shadow: 0px 1px 2px rgba(60, 64, 67, 0.3), 0px 1px 3px 1px rgba(60, 64, 67, 0.15);\n",
              "      fill: #174EA6;\n",
              "    }\n",
              "\n",
              "    [theme=dark] .colab-df-convert {\n",
              "      background-color: #3B4455;\n",
              "      fill: #D2E3FC;\n",
              "    }\n",
              "\n",
              "    [theme=dark] .colab-df-convert:hover {\n",
              "      background-color: #434B5C;\n",
              "      box-shadow: 0px 1px 3px 1px rgba(0, 0, 0, 0.15);\n",
              "      filter: drop-shadow(0px 1px 2px rgba(0, 0, 0, 0.3));\n",
              "      fill: #FFFFFF;\n",
              "    }\n",
              "  </style>\n",
              "\n",
              "      <script>\n",
              "        const buttonEl =\n",
              "          document.querySelector('#df-e8140513-8252-4a5a-b6c5-c84b0dc2a122 button.colab-df-convert');\n",
              "        buttonEl.style.display =\n",
              "          google.colab.kernel.accessAllowed ? 'block' : 'none';\n",
              "\n",
              "        async function convertToInteractive(key) {\n",
              "          const element = document.querySelector('#df-e8140513-8252-4a5a-b6c5-c84b0dc2a122');\n",
              "          const dataTable =\n",
              "            await google.colab.kernel.invokeFunction('convertToInteractive',\n",
              "                                                     [key], {});\n",
              "          if (!dataTable) return;\n",
              "\n",
              "          const docLinkHtml = 'Like what you see? Visit the ' +\n",
              "            '<a target=\"_blank\" href=https://colab.research.google.com/notebooks/data_table.ipynb>data table notebook</a>'\n",
              "            + ' to learn more about interactive tables.';\n",
              "          element.innerHTML = '';\n",
              "          dataTable['output_type'] = 'display_data';\n",
              "          await google.colab.output.renderOutput(dataTable, element);\n",
              "          const docLink = document.createElement('div');\n",
              "          docLink.innerHTML = docLinkHtml;\n",
              "          element.appendChild(docLink);\n",
              "        }\n",
              "      </script>\n",
              "    </div>\n",
              "  </div>\n",
              "  "
            ]
          },
          "metadata": {}
        }
      ],
      "source": [
        "preds = torch.tensor(test_processed_df.values, dtype=torch.float32)\n",
        "print(preds.shape)\n",
        "DropHousingTrainer.model.eval()\n",
        "kagglePredictions = DropHousingTrainer.model(preds).reshape(-1)\n",
        "print(kagglePredictions.shape, test_df.Id.shape)\n",
        "submission = pd.DataFrame({'Id': test_df.Id,'SalePrice':kagglePredictions.detach().numpy()})\n",
        "display(submission)\n",
        "submission.to_csv('submission.csv', index=False)"
      ],
      "id": "5a8a95fd-b11d-47f7-8121-218f24c15cb5"
    },
    {
      "cell_type": "markdown",
      "metadata": {
        "id": "4c7194f1-8427-4b75-b3e5-0a771959f64f"
      },
      "source": [
        "### 2.d Kaggle Submission\n",
        "#### Leadership Rank -- 1527"
      ],
      "id": "4c7194f1-8427-4b75-b3e5-0a771959f64f"
    },
    {
      "cell_type": "markdown",
      "source": [
        "![Screen Shot 2023-02-08 at 10.43.39 PM.png](data:image/png;base64,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)"
      ],
      "metadata": {
        "id": "heBfxcgiSome"
      },
      "id": "heBfxcgiSome"
    }
  ],
  "metadata": {
    "accelerator": "GPU",
    "colab": {
      "provenance": []
    },
    "gpuClass": "standard",
    "kernelspec": {
      "display_name": "Python 3 (ipykernel)",
      "language": "python",
      "name": "python3"
    },
    "language_info": {
      "codemirror_mode": {
        "name": "ipython",
        "version": 3
      },
      "file_extension": ".py",
      "mimetype": "text/x-python",
      "name": "python",
      "nbconvert_exporter": "python",
      "pygments_lexer": "ipython3",
      "version": "3.10.9"
    }
  },
  "nbformat": 4,
  "nbformat_minor": 5
}